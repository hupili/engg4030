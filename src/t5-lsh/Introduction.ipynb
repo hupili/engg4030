{
 "metadata": {
  "name": ""
 },
 "nbformat": 3,
 "nbformat_minor": 0,
 "worksheets": [
  {
   "cells": [
    {
     "cell_type": "markdown",
     "metadata": {},
     "source": [
      "# IPython Introduction for ENGG4030\n",
      "\n",
      "Author: [Pili Hu](http://hupili.net/)\n",
      "\n",
      "This is a very fast introduction to let you know what Python is capable of and taste the scientific computation environment in Python. No need to bother with the details. We have concrete examples to cover most aspects of following tutorials. Relevant mathematics, modules and functions will be taught just-in-time."
     ]
    },
    {
     "cell_type": "heading",
     "level": 2,
     "metadata": {},
     "source": [
      "As a powerful calculator"
     ]
    },
    {
     "cell_type": "code",
     "collapsed": false,
     "input": [
      "1+1 # just like in normal Python shell"
     ],
     "language": "python",
     "metadata": {},
     "outputs": [
      {
       "metadata": {},
       "output_type": "pyout",
       "prompt_number": 1,
       "text": [
        "2"
       ]
      }
     ],
     "prompt_number": 1
    },
    {
     "cell_type": "code",
     "collapsed": false,
     "input": [
      "2 ** 100 # 2^100: native support for big integer computation"
     ],
     "language": "python",
     "metadata": {},
     "outputs": [
      {
       "metadata": {},
       "output_type": "pyout",
       "prompt_number": 2,
       "text": [
        "1267650600228229401496703205376L"
       ]
      }
     ],
     "prompt_number": 2
    },
    {
     "cell_type": "heading",
     "level": 2,
     "metadata": {},
     "source": [
      "Visualization"
     ]
    },
    {
     "cell_type": "code",
     "collapsed": false,
     "input": [
      "plot([1,3],[2,4])"
     ],
     "language": "python",
     "metadata": {},
     "outputs": [
      {
       "metadata": {},
       "output_type": "pyout",
       "prompt_number": 3,
       "text": [
        "[<matplotlib.lines.Line2D at 0x2fb67d0>]"
       ]
      },
      {
       "metadata": {},
       "output_type": "display_data",
       "png": "[encoded data removed]",
       "text": [
        "<matplotlib.figure.Figure at 0x2ee8e50>"
       ]
      }
     ],
     "prompt_number": 3
    },
    {
     "cell_type": "code",
     "collapsed": false,
     "input": [
      "x = arange(0, 10, 0.01)\n",
      "plot(x, sin(x))"
     ],
     "language": "python",
     "metadata": {},
     "outputs": [
      {
       "metadata": {},
       "output_type": "pyout",
       "prompt_number": 4,
       "text": [
        "[<matplotlib.lines.Line2D at 0x3230990>]"
       ]
      },
      {
       "metadata": {},
       "output_type": "display_data",
       "png": "[encoded data removed]",
       "text": [
        "<matplotlib.figure.Figure at 0x2f99b90>"
       ]
      }
     ],
     "prompt_number": 4
    },
    {
     "cell_type": "markdown",
     "metadata": {},
     "source": [
      "## Symbolic computation\n",
      "\n",
      "Now you have an easy way to do homeworks in other courses...\n",
      "\n",
      "And it's free + open source."
     ]
    },
    {
     "cell_type": "code",
     "collapsed": false,
     "input": [
      "import sympy\n",
      "print sympy.integrate('sin(x)')\n",
      "x = sympy.Symbol('x')\n",
      "print sympy.integrate(1/x**2)"
     ],
     "language": "python",
     "metadata": {},
     "outputs": [
      {
       "output_type": "stream",
       "stream": "stdout",
       "text": [
        "-cos(x)\n",
        "-1/x\n"
       ]
      }
     ],
     "prompt_number": 5
    },
    {
     "cell_type": "markdown",
     "metadata": {},
     "source": [
      "NOTE:\n",
      "\n",
      "   * You can `from sympy import *` to save some typing.\n",
      "   * However, there will be name collisions, e.g. `sin` both defined in `sympy` and `numpy`."
     ]
    },
    {
     "cell_type": "markdown",
     "metadata": {},
     "source": [
      "## Useful \"magics\"\n",
      "\n",
      "They can do something not natively supported by Python\n",
      "\n",
      "   * `%xxx`: line magic\n",
      "   * `%%xxx`: block magic"
     ]
    },
    {
     "cell_type": "code",
     "collapsed": false,
     "input": [
      "%%timeit\n",
      "a = 0\n",
      "for i in range(1,1000000):\n",
      "    a += i"
     ],
     "language": "python",
     "metadata": {},
     "outputs": [
      {
       "output_type": "stream",
       "stream": "stdout",
       "text": [
        "10 loops, best of 3: 107 ms per loop\n"
       ]
      }
     ],
     "prompt_number": 6
    },
    {
     "cell_type": "code",
     "collapsed": false,
     "input": [
      "%pwd"
     ],
     "language": "python",
     "metadata": {},
     "outputs": [
      {
       "metadata": {},
       "output_type": "pyout",
       "prompt_number": 7,
       "text": [
        "u'/home/azureuser'"
       ]
      }
     ],
     "prompt_number": 7
    },
    {
     "cell_type": "code",
     "collapsed": false,
     "input": [
      "%alias"
     ],
     "language": "python",
     "metadata": {},
     "outputs": [
      {
       "output_type": "stream",
       "stream": "stdout",
       "text": [
        "Total number of aliases: 12\n"
       ]
      },
      {
       "metadata": {},
       "output_type": "pyout",
       "prompt_number": 8,
       "text": [
        "[('cat', 'cat'),\n",
        " ('cp', 'cp -i'),\n",
        " ('ldir', 'ls -F -o --color %l | grep /$'),\n",
        " ('lf', 'ls -F -o --color %l | grep ^-'),\n",
        " ('lk', 'ls -F -o --color %l | grep ^l'),\n",
        " ('ll', 'ls -F -o --color'),\n",
        " ('ls', 'ls -F --color'),\n",
        " ('lx', 'ls -F -o --color %l | grep ^-..x'),\n",
        " ('mkdir', 'mkdir'),\n",
        " ('mv', 'mv -i'),\n",
        " ('rm', 'rm -i'),\n",
        " ('rmdir', 'rmdir')]"
       ]
      }
     ],
     "prompt_number": 8
    },
    {
     "cell_type": "markdown",
     "metadata": {},
     "source": [
      "**TIP**: By default, you don't need `%` to use those magics"
     ]
    },
    {
     "cell_type": "code",
     "collapsed": false,
     "input": [
      "cd '..'"
     ],
     "language": "python",
     "metadata": {},
     "outputs": [
      {
       "output_type": "stream",
       "stream": "stdout",
       "text": [
        "/home\n"
       ]
      }
     ],
     "prompt_number": 9
    },
    {
     "cell_type": "code",
     "collapsed": false,
     "input": [
      "pwd"
     ],
     "language": "python",
     "metadata": {},
     "outputs": [
      {
       "metadata": {},
       "output_type": "pyout",
       "prompt_number": 10,
       "text": [
        "u'/home'"
       ]
      }
     ],
     "prompt_number": 10
    },
    {
     "cell_type": "code",
     "collapsed": false,
     "input": [
      "cd ~"
     ],
     "language": "python",
     "metadata": {},
     "outputs": [
      {
       "output_type": "stream",
       "stream": "stdout",
       "text": [
        "/home/azureuser\n"
       ]
      }
     ],
     "prompt_number": 11
    },
    {
     "cell_type": "markdown",
     "metadata": {},
     "source": [
      "## Shell commands\n",
      "\n",
      "Prefix with a `!`.\n",
      "\n",
      "Bonus: you can operate similarly in `vim`."
     ]
    },
    {
     "cell_type": "code",
     "collapsed": false,
     "input": [
      "!echo 'Hello World, this is shell!'"
     ],
     "language": "python",
     "metadata": {},
     "outputs": [
      {
       "output_type": "stream",
       "stream": "stdout",
       "text": [
        "Hello World, this is shell!\r\n"
       ]
      }
     ],
     "prompt_number": 12
    },
    {
     "cell_type": "code",
     "collapsed": false,
     "input": [
      "!echo \"I'm using $SHELL\""
     ],
     "language": "python",
     "metadata": {},
     "outputs": [
      {
       "output_type": "stream",
       "stream": "stdout",
       "text": [
        "I'm using /bin/bash\r\n"
       ]
      }
     ],
     "prompt_number": 13
    },
    {
     "cell_type": "code",
     "collapsed": false,
     "input": [
      "!echo 'grep a string' | grep -o 'stri[a-z]'"
     ],
     "language": "python",
     "metadata": {},
     "outputs": [
      {
       "output_type": "stream",
       "stream": "stdout",
       "text": [
        "strin\r\n"
       ]
      }
     ],
     "prompt_number": 14
    },
    {
     "cell_type": "markdown",
     "metadata": {},
     "source": [
      "## As a your notebook\n",
      "\n",
      "(or why is it called IPython Notebook)\n",
      "\n",
      "   * You can write [markdown](http://daringfireball.net/projects/markdown/syntax)\n",
      "   * You can write TeX formula which will be rendered by [MathJax](http://www.mathjax.org/)\n",
      "   \n",
      "The cosine similarity measure for two vectors $x,y \\in \\mathbb{R}^n$ is defined as:\n",
      "\n",
      "$$ cos(x,y) = \\frac{a \\cdot b}{||a|| ||b||} $$\n",
      "\n",
      "Source code of the above is followed:\n",
      "\n",
      "----------\n",
      "\n",
      "\n",
      "       * You can write [markdown](http://daringfireball.net/projects/markdown/syntax)\n",
      "       * You can write TeX formula which will be rendered by [MathJax](http://www.mathjax.org/)\n",
      "       \n",
      "    The cosine similarity measure for two vectors $x,y \\in \\mathbb{R}^n$ is defined as:\n",
      "    \n",
      "    $$ cos(x,y) = \\frac{a \\cdot b}{||a|| ||b||} $$\n"
     ]
    },
    {
     "cell_type": "markdown",
     "metadata": {},
     "source": [
      "## Further pointers\n",
      "\n",
      "   * Checkout a powerful package `sage`. [sagemath cloud](https://cloud.sagemath.com/) gives you free VMs equipped with the environment.\n",
      "   * Markdown is now widely used for making lightweight notes. It's adopted by Stackoverflow, GitHub, Coursera, ... The content of [course website](https://course.ie.cuhk.edu.hk/~engg4030/) is also written in markdown. http://daringfireball.net/projects/markdown/syntax\n",
      "   * Checkout LaTeX and you'll be able to write more beautiful formula: http://www.latex-project.org/\n",
      "   \n",
      "More about IPython:\n",
      "\n",
      "   * Checkout the [official example repo](https://github.com/ipython/ipython/tree/master/examples/notebooks).\n",
      "   * [Part 1](http://nbviewer.ipython.org/github/ipython/ipython/blob/master/examples/notebooks/Part%201%20-%20Running%20Code.ipynb)\n",
      "   contains a nice visualization in the end to show you the capability of IPython Notebook.\n",
      "   * [Part 2](http://nbviewer.ipython.org/github/ipython/ipython/blob/master/examples/notebooks/Part%202%20-%20Basic%20Output.ipynb)\n",
      "   has examples of using IPython cell outputs.\n",
      "   * [Part 4](http://nbviewer.ipython.org/github/ipython/ipython/blob/master/examples/notebooks/Part%204%20-%20Markdown%20Cells.ipynb)\n",
      "   has examples of using Markdown cells.\n",
      "   * [part 5](http://nbviewer.ipython.org/github/ipython/ipython/blob/master/examples/notebooks/Part%205%20-%20Rich%20Display%20System.ipynb)\n",
      "   shows you the rich display capabilities of IPython. Highly recommend!\n",
      "   \n",
      "**NOTE**:\n",
      "If you are convinced that IPython Notebook is an awesome notebook for you,\n",
      "try to do your furture homework in this environment.\n",
      "Just submit the `.ipynb` file."
     ]
    }
   ],
   "metadata": {}
  }
 ]
}