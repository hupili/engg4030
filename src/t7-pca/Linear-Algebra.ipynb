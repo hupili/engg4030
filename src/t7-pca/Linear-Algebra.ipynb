{
 "metadata": {
  "name": ""
 },
 "nbformat": 3,
 "nbformat_minor": 0,
 "worksheets": [
  {
   "cells": [
    {
     "cell_type": "markdown",
     "metadata": {},
     "source": [
      "# Linear Algebra\n",
      "\n",
      "Author: [Pili Hu](http://hupili.net/)\n",
      "\n",
      "A playground for matrix factorizations.\n",
      "Whennever in doubt of syntax and convention, come to try it yourself."
     ]
    },
    {
     "cell_type": "markdown",
     "metadata": {},
     "source": [
      "## Basic operations"
     ]
    },
    {
     "cell_type": "code",
     "collapsed": false,
     "input": [
      "A = matrix([[1,2,3],[4,5,6]])"
     ],
     "language": "python",
     "metadata": {},
     "outputs": [],
     "prompt_number": 1
    },
    {
     "cell_type": "code",
     "collapsed": false,
     "input": [
      "A + A"
     ],
     "language": "python",
     "metadata": {},
     "outputs": [
      {
       "metadata": {},
       "output_type": "pyout",
       "prompt_number": 2,
       "text": [
        "matrix([[ 2,  4,  6],\n",
        "        [ 8, 10, 12]])"
       ]
      }
     ],
     "prompt_number": 2
    },
    {
     "cell_type": "code",
     "collapsed": false,
     "input": [
      "A - 1"
     ],
     "language": "python",
     "metadata": {},
     "outputs": [
      {
       "metadata": {},
       "output_type": "pyout",
       "prompt_number": 3,
       "text": [
        "matrix([[0, 1, 2],\n",
        "        [3, 4, 5]])"
       ]
      }
     ],
     "prompt_number": 3
    },
    {
     "cell_type": "code",
     "collapsed": false,
     "input": [
      "A * 3"
     ],
     "language": "python",
     "metadata": {},
     "outputs": [
      {
       "metadata": {},
       "output_type": "pyout",
       "prompt_number": 4,
       "text": [
        "matrix([[ 3,  6,  9],\n",
        "        [12, 15, 18]])"
       ]
      }
     ],
     "prompt_number": 4
    },
    {
     "cell_type": "code",
     "collapsed": false,
     "input": [
      "A[:, 2]"
     ],
     "language": "python",
     "metadata": {},
     "outputs": [
      {
       "metadata": {},
       "output_type": "pyout",
       "prompt_number": 5,
       "text": [
        "matrix([[3],\n",
        "        [6]])"
       ]
      }
     ],
     "prompt_number": 5
    },
    {
     "cell_type": "code",
     "collapsed": false,
     "input": [
      "A[0, :]"
     ],
     "language": "python",
     "metadata": {},
     "outputs": [
      {
       "metadata": {},
       "output_type": "pyout",
       "prompt_number": 6,
       "text": [
        "matrix([[1, 2, 3]])"
       ]
      }
     ],
     "prompt_number": 6
    },
    {
     "cell_type": "code",
     "collapsed": false,
     "input": [
      "# A times A transpose\n",
      "A * A.T\n",
      "# The result is 2x2. That means A is 2x3.\n",
      "# Go back to check the nested list we used to construct A.\n",
      "# The inner lists are rows."
     ],
     "language": "python",
     "metadata": {},
     "outputs": [
      {
       "metadata": {},
       "output_type": "pyout",
       "prompt_number": 7,
       "text": [
        "matrix([[14, 32],\n",
        "        [32, 77]])"
       ]
      }
     ],
     "prompt_number": 7
    },
    {
     "cell_type": "code",
     "collapsed": false,
     "input": [
      "A.T * A"
     ],
     "language": "python",
     "metadata": {},
     "outputs": [
      {
       "metadata": {},
       "output_type": "pyout",
       "prompt_number": 8,
       "text": [
        "matrix([[17, 22, 27],\n",
        "        [22, 29, 36],\n",
        "        [27, 36, 45]])"
       ]
      }
     ],
     "prompt_number": 8
    },
    {
     "cell_type": "code",
     "collapsed": false,
     "input": [
      "B = array([[1,2,3],[4,5,6]])\n",
      "print B.T.dot(B)\n",
      "print B.dot(B.T)"
     ],
     "language": "python",
     "metadata": {},
     "outputs": [
      {
       "output_type": "stream",
       "stream": "stdout",
       "text": [
        "[[17 22 27]\n",
        " [22 29 36]\n",
        " [27 36 45]]\n",
        "[[14 32]\n",
        " [32 77]]\n"
       ]
      }
     ],
     "prompt_number": 9
    },
    {
     "cell_type": "markdown",
     "metadata": {},
     "source": [
      "## Broadcasting operations"
     ]
    },
    {
     "cell_type": "code",
     "collapsed": false,
     "input": [
      "A = matrix([[1,1,1], [2,2,2]])"
     ],
     "language": "python",
     "metadata": {},
     "outputs": [],
     "prompt_number": 10
    },
    {
     "cell_type": "code",
     "collapsed": false,
     "input": [
      "# Broadcast to whole matrix\n",
      "A + 1 "
     ],
     "language": "python",
     "metadata": {},
     "outputs": [
      {
       "metadata": {},
       "output_type": "pyout",
       "prompt_number": 11,
       "text": [
        "matrix([[2, 2, 2],\n",
        "        [3, 3, 3]])"
       ]
      }
     ],
     "prompt_number": 11
    },
    {
     "cell_type": "code",
     "collapsed": false,
     "input": [
      "# Broadcast by row\n",
      "A + matrix([[1,2,3]])"
     ],
     "language": "python",
     "metadata": {},
     "outputs": [
      {
       "metadata": {},
       "output_type": "pyout",
       "prompt_number": 12,
       "text": [
        "matrix([[2, 3, 4],\n",
        "        [3, 4, 5]])"
       ]
      }
     ],
     "prompt_number": 12
    },
    {
     "cell_type": "code",
     "collapsed": false,
     "input": [
      "# Broadcast by column\n",
      "A + matrix([[1],[2]])"
     ],
     "language": "python",
     "metadata": {},
     "outputs": [
      {
       "metadata": {},
       "output_type": "pyout",
       "prompt_number": 13,
       "text": [
        "matrix([[2, 2, 2],\n",
        "        [4, 4, 4]])"
       ]
      }
     ],
     "prompt_number": 13
    },
    {
     "cell_type": "code",
     "collapsed": false,
     "input": [
      "# Useful snippet: center your data points. (row is a data point)\n",
      "print 'mean=\\n', mean(A, 0)\n",
      "print 'centered=\\n', A - mean(A, 0)"
     ],
     "language": "python",
     "metadata": {},
     "outputs": [
      {
       "output_type": "stream",
       "stream": "stdout",
       "text": [
        "mean=\n",
        "[[ 1.5  1.5  1.5]]\n",
        "centered=\n",
        "[[-0.5 -0.5 -0.5]\n",
        " [ 0.5  0.5  0.5]]\n"
       ]
      }
     ],
     "prompt_number": 14
    },
    {
     "cell_type": "markdown",
     "metadata": {},
     "source": [
      "## Copmlex numbers"
     ]
    },
    {
     "cell_type": "code",
     "collapsed": false,
     "input": [
      "C = matrix([[1+2j,1+3j]])\n",
      "print 'C=\\n', C\n",
      "print 'C.T=\\n', C.T\n",
      "print 'conj(C)=\\n', conj(C)"
     ],
     "language": "python",
     "metadata": {},
     "outputs": [
      {
       "output_type": "stream",
       "stream": "stdout",
       "text": [
        "C=\n",
        "[[ 1.+2.j  1.+3.j]]\n",
        "C.T=\n",
        "[[ 1.+2.j]\n",
        " [ 1.+3.j]]\n",
        "conj(C)=\n",
        "[[ 1.-2.j  1.-3.j]]\n"
       ]
      }
     ],
     "prompt_number": 15
    },
    {
     "cell_type": "markdown",
     "metadata": {},
     "source": [
      "## SVD\n",
      "\n",
      "Note, there are multiple conventions for SVD.\n",
      "Different textbooks use different conventions.\n",
      "Different courses use different conventions.\n",
      "\n",
      "The convention used by `numpy.linalg.svd` is as follows:\n",
      "\n",
      "$$X_{m \\times n}=U_{m \\times m} \\Sigma_{m \\times n} V_{n \\times n}$$\n",
      "\n",
      "Zeros are padded to $\\Sigma$ according to the dimensions.\n",
      "\n",
      "The `U`, `s`, `V` returned by `svd` are:\n",
      "\n",
      "   * `U`: $U_{m \\times m}$.\n",
      "   * `s`: $[\\sigma_1,\\sigma_2,\\ldots, \\sigma_{\\text{min}\\{m,n\\}}]$, namely, the diagonal elements of $\\Sigma_{m \\times n}$.\n",
      "   * `V`: $V_{n \\times n}$."
     ]
    },
    {
     "cell_type": "code",
     "collapsed": false,
     "input": [
      "X = matrix([[1,1,1],[2,3,4]])\n",
      "U, s, V = svd(X, full_matrices=True)\n",
      "print 'U=\\n', U\n",
      "print U.T * U\n",
      "print 'sigma=\\n', s\n",
      "print 'V=\\n', V\n",
      "print V * V.T\n",
      "S = zeros((2,3), dtype=float)\n",
      "S[:2, :2] = diag(s)\n",
      "print 'S=\\n', S\n",
      "print 'reconstructed X=\\n', dot(U, dot(S, V))"
     ],
     "language": "python",
     "metadata": {},
     "outputs": [
      {
       "output_type": "stream",
       "stream": "stdout",
       "text": [
        "U=\n",
        "[[-0.29816758 -0.95451354]\n",
        " [-0.95451354  0.29816758]]\n",
        "[[  1.00000000e+00  -1.11022302e-16]\n",
        " [ -1.11022302e-16   1.00000000e+00]]\n",
        "sigma=\n",
        "[ 5.64015854  0.43429448]\n",
        "V=\n",
        "[[-0.39133557 -0.5605708  -0.72980603]\n",
        " [-0.8247362  -0.13817999  0.54837623]\n",
        " [ 0.40824829 -0.81649658  0.40824829]]\n",
        "[[  1.00000000e+00  -1.11022302e-16   0.00000000e+00]\n",
        " [ -1.11022302e-16   1.00000000e+00  -8.32667268e-17]\n",
        " [  0.00000000e+00  -8.32667268e-17   1.00000000e+00]]\n",
        "S=\n",
        "[[ 5.64015854  0.          0.        ]\n",
        " [ 0.          0.43429448  0.        ]]\n",
        "reconstructed X=\n",
        "[[ 1.  1.  1.]\n",
        " [ 2.  3.  4.]]\n"
       ]
      }
     ],
     "prompt_number": 16
    },
    {
     "cell_type": "markdown",
     "metadata": {},
     "source": [
      "## EVD\n",
      "\n",
      "Eigen decomposition has a better convention across communities:\n",
      "\n",
      "$$X U = U \\Lambda$$\n",
      "\n",
      "The `l` and `U` returned by `eig` are:\n",
      "\n",
      "   * `l`: $\\Lambda$\n",
      "   * `U`: $U$\n",
      "  \n",
      "When $X$ is a real symmetric matrix, we can decompose it as:\n",
      "\n",
      "$$X_{n \\times n}=U_{n \\times n} \\Lambda_{n \\times n} U^T_{n \\times n}$$\n"
     ]
    },
    {
     "cell_type": "code",
     "collapsed": false,
     "input": [
      "X = matrix(rand(3,2))\n",
      "C = X * X.T\n",
      "l, U = eig(C)\n",
      "print 'X=\\n', X\n",
      "print 'C=\\n', C\n",
      "print 'lambda=\\n', l\n",
      "print 'U=\\n', U\n",
      "print 'check orthonormal of U:\\n', U.T * U\n",
      "print 'reconstructed C\\n', U * diag(l) * U.T"
     ],
     "language": "python",
     "metadata": {},
     "outputs": [
      {
       "output_type": "stream",
       "stream": "stdout",
       "text": [
        "X=\n",
        "[[ 0.51145157  0.48386638]\n",
        " [ 0.95629821  0.03014075]\n",
        " [ 0.40118469  0.45445465]]\n",
        "C=\n",
        "[[ 0.49570939  0.50368431  0.42508187]\n",
        " [ 0.50368431  0.91541473  0.39734981]\n",
        " [ 0.42508187  0.39734981  0.36747819]]\n",
        "lambda=\n",
        "[  1.53023709e+00  -1.42117318e-16   2.48365205e-01]\n",
        "U=\n",
        "[[-0.53287729 -0.68533702  0.49634157]\n",
        " [-0.72188622  0.06214516 -0.68921569]\n",
        " [-0.4414998   0.72556953  0.5278511 ]]\n",
        "check orthonormal of U:\n",
        "[[  1.00000000e+00   4.44089210e-16  -1.94289029e-16]\n",
        " [  4.44089210e-16   1.00000000e+00  -5.55111512e-17]\n",
        " [ -1.94289029e-16  -5.55111512e-17   1.00000000e+00]]\n",
        "reconstructed C\n",
        "[[ 0.49570939  0.50368431  0.42508187]\n",
        " [ 0.50368431  0.91541473  0.39734981]\n",
        " [ 0.42508187  0.39734981  0.36747819]]\n"
       ]
      }
     ],
     "prompt_number": 17
    }
   ],
   "metadata": {}
  }
 ]
}