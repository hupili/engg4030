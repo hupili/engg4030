{
 "metadata": {
  "name": "",
  "signature": "sha256:78df66b308c68b05ed553fcbc370847d76997dd8bbac68cbd95337fb441d1ac2"
 },
 "nbformat": 3,
 "nbformat_minor": 0,
 "worksheets": [
  {
   "cells": [
    {
     "cell_type": "markdown",
     "metadata": {},
     "source": [
      "# Preparation and Basic Statistics\n",
      "\n",
      "Author: [Pili Hu](http://hupili.net/)\n",
      "\n",
      "In this notebook, we'll try several supervised learning methods.\n",
      "Key take-aways:\n",
      "\n",
      "   * Problem identification (e.g. classification) and interface identification (fit, predict).\n",
      "   * Know some names of common algorithms.\n",
      "\n",
      "Competition link: [http://www.kaggle.com/c/titanic-gettingStarted](http://www.kaggle.com/c/titanic-gettingStarted)"
     ]
    },
    {
     "cell_type": "markdown",
     "metadata": {},
     "source": [
      "## Pre-processing\n",
      "\n",
      "We first cast the input into numerical values.\n",
      "This is not the best pre-processing for every algorithm.\n",
      "Since it applies to all of them, we use it for convenience."
     ]
    },
    {
     "cell_type": "code",
     "collapsed": false,
     "input": [
      "import pandas as pd"
     ],
     "language": "python",
     "metadata": {},
     "outputs": [],
     "prompt_number": 1
    },
    {
     "cell_type": "code",
     "collapsed": false,
     "input": [
      "Y_column = 'Survived'\n",
      "X_columns = ['Fare', 'Age', 'Parch', 'Pclass', 'Sex', 'SibSp']\n",
      "#X_columns = list(set(data_train_num.columns) - set([Y_column, 'PassengerId']))\n",
      "X_columns"
     ],
     "language": "python",
     "metadata": {},
     "outputs": [
      {
       "metadata": {},
       "output_type": "pyout",
       "prompt_number": 2,
       "text": [
        "['Fare', 'Age', 'Parch', 'Pclass', 'Sex', 'SibSp']"
       ]
      }
     ],
     "prompt_number": 2
    },
    {
     "cell_type": "code",
     "collapsed": false,
     "input": [
      "def to_numerical(data):\n",
      "    newdata = pd.DataFrame(data, index=data.index)\n",
      "    newdata = newdata.drop(['Name', 'Ticket', 'Cabin', 'Embarked'], 1)\n",
      "    _avg_age = newdata['Age'].mean()\n",
      "    print 'avg age:', _avg_age\n",
      "    newdata['Age'] = newdata['Age'].fillna(_avg_age)\n",
      "    # Just for convenience. \n",
      "    # Fill remaining NaN by a value to avoid corner cases.\n",
      "    for c in X_columns:\n",
      "        newdata[c] = newdata[c].fillna(-1)\n",
      "    newdata['Sex'] = newdata['Sex'].map({'male': 1, 'female': 0})\n",
      "    return newdata\n",
      "\n",
      "def to_normalized(data):\n",
      "    newdata = pd.DataFrame(data, index=data.index)\n",
      "    newdata[X_columns] = newdata[X_columns].apply(lambda s: (s - s.min()) / (s.max() - s.min()))\n",
      "    return newdata"
     ],
     "language": "python",
     "metadata": {},
     "outputs": [],
     "prompt_number": 3
    },
    {
     "cell_type": "code",
     "collapsed": false,
     "input": [
      "data_train = pd.read_csv('train.csv')\n",
      "print len(data_train)\n",
      "data_train_num = to_normalized(to_numerical(data_train))\n",
      "print len(data_train_num)\n",
      "data_train_num[:5]"
     ],
     "language": "python",
     "metadata": {},
     "outputs": [
      {
       "output_type": "stream",
       "stream": "stdout",
       "text": [
        "891\n",
        "avg age: 29.6991176471\n",
        "891\n"
       ]
      },
      {
       "html": [
        "<div style=\"max-height:1000px;max-width:1500px;overflow:auto;\">\n",
        "<table border=\"1\" class=\"dataframe\">\n",
        "  <thead>\n",
        "    <tr style=\"text-align: right;\">\n",
        "      <th></th>\n",
        "      <th>PassengerId</th>\n",
        "      <th>Survived</th>\n",
        "      <th>Pclass</th>\n",
        "      <th>Sex</th>\n",
        "      <th>Age</th>\n",
        "      <th>SibSp</th>\n",
        "      <th>Parch</th>\n",
        "      <th>Fare</th>\n",
        "    </tr>\n",
        "  </thead>\n",
        "  <tbody>\n",
        "    <tr>\n",
        "      <th>0</th>\n",
        "      <td> 1</td>\n",
        "      <td> 0</td>\n",
        "      <td> 1</td>\n",
        "      <td> 1</td>\n",
        "      <td> 0.271174</td>\n",
        "      <td> 0.125</td>\n",
        "      <td> 0</td>\n",
        "      <td> 0.014151</td>\n",
        "    </tr>\n",
        "    <tr>\n",
        "      <th>1</th>\n",
        "      <td> 2</td>\n",
        "      <td> 1</td>\n",
        "      <td> 0</td>\n",
        "      <td> 0</td>\n",
        "      <td> 0.472229</td>\n",
        "      <td> 0.125</td>\n",
        "      <td> 0</td>\n",
        "      <td> 0.139136</td>\n",
        "    </tr>\n",
        "    <tr>\n",
        "      <th>2</th>\n",
        "      <td> 3</td>\n",
        "      <td> 1</td>\n",
        "      <td> 1</td>\n",
        "      <td> 0</td>\n",
        "      <td> 0.321438</td>\n",
        "      <td> 0.000</td>\n",
        "      <td> 0</td>\n",
        "      <td> 0.015469</td>\n",
        "    </tr>\n",
        "    <tr>\n",
        "      <th>3</th>\n",
        "      <td> 4</td>\n",
        "      <td> 1</td>\n",
        "      <td> 0</td>\n",
        "      <td> 0</td>\n",
        "      <td> 0.434531</td>\n",
        "      <td> 0.125</td>\n",
        "      <td> 0</td>\n",
        "      <td> 0.103644</td>\n",
        "    </tr>\n",
        "    <tr>\n",
        "      <th>4</th>\n",
        "      <td> 5</td>\n",
        "      <td> 0</td>\n",
        "      <td> 1</td>\n",
        "      <td> 1</td>\n",
        "      <td> 0.434531</td>\n",
        "      <td> 0.000</td>\n",
        "      <td> 0</td>\n",
        "      <td> 0.015713</td>\n",
        "    </tr>\n",
        "  </tbody>\n",
        "</table>\n",
        "<p>5 rows \u00d7 8 columns</p>\n",
        "</div>"
       ],
       "metadata": {},
       "output_type": "pyout",
       "prompt_number": 4,
       "text": [
        "   PassengerId  Survived  Pclass  Sex       Age  SibSp  Parch      Fare\n",
        "0            1         0       1    1  0.271174  0.125      0  0.014151\n",
        "1            2         1       0    0  0.472229  0.125      0  0.139136\n",
        "2            3         1       1    0  0.321438  0.000      0  0.015469\n",
        "3            4         1       0    0  0.434531  0.125      0  0.103644\n",
        "4            5         0       1    1  0.434531  0.000      0  0.015713\n",
        "\n",
        "[5 rows x 8 columns]"
       ]
      }
     ],
     "prompt_number": 4
    },
    {
     "cell_type": "code",
     "collapsed": false,
     "input": [
      "data_test = pd.read_csv('test.csv')\n",
      "print len(data_test)\n",
      "data_test_num = to_normalized(to_numerical(data_test))\n",
      "print len(data_test_num)\n",
      "data_test_num[:5]"
     ],
     "language": "python",
     "metadata": {},
     "outputs": [
      {
       "output_type": "stream",
       "stream": "stdout",
       "text": [
        "418\n",
        "avg age: 30.2725903614\n",
        "418\n"
       ]
      },
      {
       "html": [
        "<div style=\"max-height:1000px;max-width:1500px;overflow:auto;\">\n",
        "<table border=\"1\" class=\"dataframe\">\n",
        "  <thead>\n",
        "    <tr style=\"text-align: right;\">\n",
        "      <th></th>\n",
        "      <th>PassengerId</th>\n",
        "      <th>Pclass</th>\n",
        "      <th>Sex</th>\n",
        "      <th>Age</th>\n",
        "      <th>SibSp</th>\n",
        "      <th>Parch</th>\n",
        "      <th>Fare</th>\n",
        "    </tr>\n",
        "  </thead>\n",
        "  <tbody>\n",
        "    <tr>\n",
        "      <th>0</th>\n",
        "      <td> 892</td>\n",
        "      <td> 1.0</td>\n",
        "      <td> 1</td>\n",
        "      <td> 0.452723</td>\n",
        "      <td> 0.000</td>\n",
        "      <td> 0.000000</td>\n",
        "      <td> 0.017200</td>\n",
        "    </tr>\n",
        "    <tr>\n",
        "      <th>1</th>\n",
        "      <td> 893</td>\n",
        "      <td> 1.0</td>\n",
        "      <td> 0</td>\n",
        "      <td> 0.617566</td>\n",
        "      <td> 0.125</td>\n",
        "      <td> 0.000000</td>\n",
        "      <td> 0.015585</td>\n",
        "    </tr>\n",
        "    <tr>\n",
        "      <th>2</th>\n",
        "      <td> 894</td>\n",
        "      <td> 0.5</td>\n",
        "      <td> 1</td>\n",
        "      <td> 0.815377</td>\n",
        "      <td> 0.000</td>\n",
        "      <td> 0.000000</td>\n",
        "      <td> 0.020820</td>\n",
        "    </tr>\n",
        "    <tr>\n",
        "      <th>3</th>\n",
        "      <td> 895</td>\n",
        "      <td> 1.0</td>\n",
        "      <td> 1</td>\n",
        "      <td> 0.353818</td>\n",
        "      <td> 0.000</td>\n",
        "      <td> 0.000000</td>\n",
        "      <td> 0.018823</td>\n",
        "    </tr>\n",
        "    <tr>\n",
        "      <th>4</th>\n",
        "      <td> 896</td>\n",
        "      <td> 1.0</td>\n",
        "      <td> 0</td>\n",
        "      <td> 0.287881</td>\n",
        "      <td> 0.125</td>\n",
        "      <td> 0.111111</td>\n",
        "      <td> 0.025885</td>\n",
        "    </tr>\n",
        "  </tbody>\n",
        "</table>\n",
        "<p>5 rows \u00d7 7 columns</p>\n",
        "</div>"
       ],
       "metadata": {},
       "output_type": "pyout",
       "prompt_number": 5,
       "text": [
        "   PassengerId  Pclass  Sex       Age  SibSp     Parch      Fare\n",
        "0          892     1.0    1  0.452723  0.000  0.000000  0.017200\n",
        "1          893     1.0    0  0.617566  0.125  0.000000  0.015585\n",
        "2          894     0.5    1  0.815377  0.000  0.000000  0.020820\n",
        "3          895     1.0    1  0.353818  0.000  0.000000  0.018823\n",
        "4          896     1.0    0  0.287881  0.125  0.111111  0.025885\n",
        "\n",
        "[5 rows x 7 columns]"
       ]
      }
     ],
     "prompt_number": 5
    },
    {
     "cell_type": "markdown",
     "metadata": {},
     "source": [
      "## Decision Tree\n",
      "\n",
      "Score: 0.77033"
     ]
    },
    {
     "cell_type": "code",
     "collapsed": false,
     "input": [
      "from sklearn import tree\n",
      "classifier = tree.DecisionTreeClassifier()\n",
      "classifier"
     ],
     "language": "python",
     "metadata": {},
     "outputs": [
      {
       "metadata": {},
       "output_type": "pyout",
       "prompt_number": 6,
       "text": [
        "DecisionTreeClassifier(compute_importances=None, criterion='gini',\n",
        "            max_depth=None, max_features=None, min_density=None,\n",
        "            min_samples_leaf=1, min_samples_split=2, random_state=None,\n",
        "            splitter='best')"
       ]
      }
     ],
     "prompt_number": 6
    },
    {
     "cell_type": "code",
     "collapsed": false,
     "input": [
      "classifier.fit(data_train_num[X_columns], data_train_num[Y_column])"
     ],
     "language": "python",
     "metadata": {},
     "outputs": [
      {
       "metadata": {},
       "output_type": "pyout",
       "prompt_number": 7,
       "text": [
        "DecisionTreeClassifier(compute_importances=None, criterion='gini',\n",
        "            max_depth=None, max_features=None, min_density=None,\n",
        "            min_samples_leaf=1, min_samples_split=2, random_state=None,\n",
        "            splitter='best')"
       ]
      }
     ],
     "prompt_number": 7
    },
    {
     "cell_type": "code",
     "collapsed": false,
     "input": [
      "prediction = classifier.predict(data_test_num[X_columns])\n",
      "prediction"
     ],
     "language": "python",
     "metadata": {},
     "outputs": [
      {
       "metadata": {},
       "output_type": "pyout",
       "prompt_number": 8,
       "text": [
        "array([0, 0, 0, 0, 1, 0, 1, 0, 0, 0, 0, 1, 1, 0, 1, 0, 0, 0, 0, 0, 0, 1, 1,\n",
        "       1, 1, 0, 1, 0, 0, 1, 0, 0, 1, 0, 1, 0, 1, 0, 0, 1, 0, 0, 0, 1, 1, 0,\n",
        "       0, 0, 1, 0, 1, 0, 1, 1, 0, 0, 0, 0, 0, 1, 0, 0, 0, 0, 0, 1, 0, 0, 1,\n",
        "       1, 0, 0, 1, 0, 1, 0, 0, 1, 0, 0, 1, 0, 1, 0, 0, 0, 0, 0, 1, 1, 0, 0,\n",
        "       1, 0, 1, 0, 1, 0, 0, 0, 1, 0, 0, 0, 1, 0, 0, 0, 0, 0, 0, 1, 1, 0, 1,\n",
        "       0, 0, 0, 0, 1, 1, 0, 1, 1, 0, 1, 0, 1, 0, 0, 0, 0, 0, 0, 1, 0, 0, 0,\n",
        "       0, 0, 0, 1, 0, 0, 0, 0, 0, 0, 0, 0, 1, 0, 0, 0, 0, 0, 1, 0, 0, 0, 1,\n",
        "       1, 1, 0, 0, 1, 0, 0, 0, 0, 0, 0, 0, 0, 0, 1, 1, 0, 1, 1, 0, 1, 1, 0,\n",
        "       1, 0, 1, 0, 0, 0, 0, 1, 1, 0, 1, 0, 0, 0, 0, 1, 1, 1, 0, 1, 0, 1, 0,\n",
        "       0, 0, 0, 0, 1, 0, 0, 0, 0, 1, 0, 1, 0, 1, 0, 1, 0, 0, 0, 0, 1, 0, 0,\n",
        "       0, 1, 0, 0, 0, 0, 0, 0, 1, 1, 0, 1, 0, 0, 1, 0, 1, 0, 1, 1, 1, 0, 0,\n",
        "       0, 0, 0, 0, 0, 1, 0, 0, 0, 1, 1, 0, 0, 0, 0, 1, 0, 0, 0, 1, 1, 0, 1,\n",
        "       1, 0, 1, 0, 0, 1, 1, 1, 1, 0, 0, 1, 0, 0, 0, 1, 0, 1, 0, 0, 1, 1, 0,\n",
        "       0, 0, 0, 0, 0, 1, 1, 0, 1, 1, 0, 0, 0, 0, 0, 1, 1, 0, 0, 0, 0, 0, 0,\n",
        "       0, 0, 1, 0, 1, 0, 0, 0, 1, 1, 0, 1, 0, 0, 0, 0, 0, 0, 0, 0, 0, 1, 0,\n",
        "       1, 0, 0, 0, 1, 1, 0, 0, 0, 1, 1, 1, 0, 0, 1, 0, 1, 1, 0, 1, 1, 0, 1,\n",
        "       1, 0, 0, 1, 0, 0, 1, 1, 0, 0, 0, 1, 0, 0, 1, 0, 0, 1, 0, 0, 0, 0, 0,\n",
        "       1, 0, 0, 1, 1, 0, 1, 0, 0, 1, 0, 1, 0, 0, 0, 0, 0, 1, 0, 1, 1, 0, 0,\n",
        "       1, 0, 0, 1])"
       ]
      }
     ],
     "prompt_number": 8
    },
    {
     "cell_type": "code",
     "collapsed": false,
     "input": [
      "pd.DataFrame(zip(data_test_num['PassengerId'], prediction),\n",
      "             columns=['PassengerId', 'Survived']).to_csv('submission-tree.csv', index=False)"
     ],
     "language": "python",
     "metadata": {},
     "outputs": []
    },
    {
     "cell_type": "code",
     "collapsed": false,
     "input": [
      "# Refs:\n",
      "#   * http://scikit-learn.org/stable/modules/tree.html\n",
      "# Troubleshoot if you have error with pydot:\n",
      "#   * http://stackoverflow.com/questions/15951748/pydot-and-graphviz-error-couldnt-import-dot-parser-loading-of-dot-files-will\n",
      "#tree.export_graphviz\n",
      "#from sklearn.externals.six import StringIO  \n",
      "import StringIO\n",
      "import pydot \n",
      "dot_data = StringIO.StringIO() \n",
      "tree.export_graphviz(classifier, out_file=dot_data) \n",
      "graph = pydot.graph_from_dot_data(dot_data.getvalue()) \n",
      "#graph.write_pdf(\"iris.pdf\") \n",
      "from IPython import display\n",
      "display.Image(graph.create_png())"
     ],
     "language": "python",
     "metadata": {},
     "outputs": []
    },
    {
     "cell_type": "markdown",
     "metadata": {},
     "source": [
      "## Random Forest\n",
      "\n",
      "Score: 0.75120 (100 estimators); 0.77033 (10 estimators); 0.72727 (5 estimators)"
     ]
    },
    {
     "cell_type": "code",
     "collapsed": false,
     "input": [
      "from sklearn import ensemble\n",
      "classifier = ensemble.RandomForestClassifier(n_estimators=5)\n",
      "classifier.fit(data_train_num[X_columns], data_train_num[Y_column])\n",
      "prediction = classifier.predict(data_test_num[X_columns])\n",
      "pd.DataFrame(zip(data_test_num['PassengerId'], prediction),\n",
      "             columns=['PassengerId', 'Survived']).to_csv('submission-ensemble-rf.csv', index=False)"
     ],
     "language": "python",
     "metadata": {},
     "outputs": []
    },
    {
     "cell_type": "markdown",
     "metadata": {},
     "source": [
      "## KNN\n",
      "\n",
      "score: 0.74641 "
     ]
    },
    {
     "cell_type": "code",
     "collapsed": false,
     "input": [
      "from sklearn import neighbors\n",
      "classifier = neighbors.KNeighborsClassifier()\n",
      "classifier.fit(data_train_num[X_columns], data_train_num[Y_column])\n",
      "prediction = classifier.predict(data_test_num[X_columns])\n",
      "pd.DataFrame(zip(data_test_num['PassengerId'], prediction),\n",
      "             columns=['PassengerId', 'Survived']).to_csv('submission-knn.csv', index=False)\n",
      "print classifier\n",
      "print prediction"
     ],
     "language": "python",
     "metadata": {},
     "outputs": []
    },
    {
     "cell_type": "markdown",
     "metadata": {},
     "source": [
      "## SVM Linear Kernel\n",
      "\n",
      "Score: 0.76555"
     ]
    },
    {
     "cell_type": "code",
     "collapsed": false,
     "input": [
      "# An SVM with default parameters\n",
      "from sklearn import svm\n",
      "classifier = svm.SVC(kernel='linear')\n",
      "classifier.fit(data_train_num[X_columns], data_train_num[Y_column])\n",
      "prediction = classifier.predict(data_test_num[X_columns])\n",
      "pd.DataFrame(zip(data_test_num['PassengerId'], prediction),\n",
      "             columns=['PassengerId', 'Survived']).to_csv('submission-svm-linear.csv', index=False)\n",
      "print classifier\n",
      "print prediction"
     ],
     "language": "python",
     "metadata": {},
     "outputs": []
    },
    {
     "cell_type": "markdown",
     "metadata": {},
     "source": [
      "## SVM Polynomial Kernel\n",
      "\n",
      "Score: 0.74641 "
     ]
    },
    {
     "cell_type": "code",
     "collapsed": false,
     "input": [
      "classifier = svm.SVC(kernel='poly')\n",
      "classifier.fit(data_train_num[X_columns], data_train_num[Y_column])\n",
      "prediction = classifier.predict(data_test_num[X_columns])\n",
      "pd.DataFrame(zip(data_test_num['PassengerId'], prediction),\n",
      "             columns=['PassengerId', 'Survived']).to_csv('submission-svm-poly.csv', index=False)\n",
      "print classifier\n",
      "print prediction"
     ],
     "language": "python",
     "metadata": {},
     "outputs": []
    },
    {
     "cell_type": "markdown",
     "metadata": {},
     "source": [
      "## SVM RBF Kernel\n",
      "\n",
      "Score: 0.78469"
     ]
    },
    {
     "cell_type": "code",
     "collapsed": false,
     "input": [
      "classifier = svm.SVC(kernel='rbf', gamma=3)\n",
      "classifier.fit(data_train_num[X_columns], data_train_num[Y_column])\n",
      "prediction = classifier.predict(data_test_num[X_columns])\n",
      "pd.DataFrame(zip(data_test_num['PassengerId'], prediction),\n",
      "             columns=['PassengerId', 'Survived']).to_csv('submission-svm-rbf.csv', index=False)\n",
      "print classifier\n",
      "print prediction"
     ],
     "language": "python",
     "metadata": {},
     "outputs": []
    },
    {
     "cell_type": "markdown",
     "metadata": {},
     "source": [
      "## LDA\n",
      "\n",
      "Score: 0.76555 "
     ]
    },
    {
     "cell_type": "code",
     "collapsed": false,
     "input": [
      "from sklearn import lda\n",
      "classifier = lda.LDA()\n",
      "classifier.fit(data_train_num[X_columns], data_train_num[Y_column])\n",
      "prediction = classifier.predict(data_test_num[X_columns])\n",
      "pd.DataFrame(zip(data_test_num['PassengerId'], prediction),\n",
      "             columns=['PassengerId', 'Survived']).to_csv('submission-lda.csv', index=False)\n",
      "print classifier\n",
      "print prediction"
     ],
     "language": "python",
     "metadata": {},
     "outputs": []
    },
    {
     "cell_type": "markdown",
     "metadata": {},
     "source": [
      "## Exercise\n",
      "\n",
      "   * Try other classifiers. [Reference list](http://scikit-learn.org/stable/auto_examples/plot_classifier_comparison.html)\n",
      "   * Try parameter tuning."
     ]
    }
   ],
   "metadata": {}
  }
 ]
}