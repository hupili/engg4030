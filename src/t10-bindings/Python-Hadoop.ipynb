{
 "metadata": {
  "name": ""
 },
 "nbformat": 3,
 "nbformat_minor": 0,
 "worksheets": [
  {
   "cells": [
    {
     "cell_type": "markdown",
     "metadata": {},
     "source": [
      "# Hadoop Bindings in Python\n",
      "\n",
      "Author: [Pili Hu](http://hupili.net/)\n",
      "\n",
      "TOC:\n",
      "\n",
      "   * IPython and shell integration\n",
      "   * Operate Hadoop from IPython Notebook\n",
      "   * One Python binding for Hadoop: https://github.com/Yelp/mrjob\n",
      "   * Review of HW1 in the unified environment of IPython Notebook\n",
      "\n",
      "## Preparation\n",
      "\n",
      "Setup your Hadoop PATHs.\n",
      "Put the following in your `~/.bashrc` file.\n",
      "Those environment variables will be setup every time you login.\n",
      "\n",
      "```\n",
      "export HADOOP_PREFIX=/opt/hadoop\n",
      "export HADOOP_HOME=/opt/hadoop\n",
      "export JAVA_HOME=/usr/lib/jvm/java-6-openjdk-amd64\n",
      "export PATH=$PATH:$HADOOP_PREFIX/bin\n",
      "export HADOOP_CONF_DIR=$HADOOP_PREFIX/conf\n",
      "```\n",
      "\n",
      "If your installation is not following [tutorial2](https://course.ie.cuhk.edu.hk/~engg4030/tutorial/tutorial2/), \n",
      "be sure to change accordingly.\n",
      "Note, although `HADOOP_HOME` is deprecated in newer Hadoop versions, `mrjob` relies on this variable.\n",
      "So we still set it here.\n",
      "\n",
      "Install `mrjob`\n",
      "\n",
      "```\n",
      "pip install --user mrjob \n",
      "```\n"
     ]
    },
    {
     "cell_type": "markdown",
     "metadata": {},
     "source": [
      "## Shell in IPython\n",
      "\n",
      "The real magic of IPython's shell command integration is the ability to pass Python variables as input and collect output in Python variables."
     ]
    },
    {
     "cell_type": "code",
     "collapsed": false,
     "input": [
      "# Current folder\n",
      "!pwd"
     ],
     "language": "python",
     "metadata": {},
     "outputs": [
      {
       "output_type": "stream",
       "stream": "stdout",
       "text": [
        "/home/azureuser/tutorial\r\n"
       ]
      }
     ],
     "prompt_number": 23
    },
    {
     "cell_type": "code",
     "collapsed": false,
     "input": [
      "# List files\n",
      "!ls"
     ],
     "language": "python",
     "metadata": {},
     "outputs": [
      {
       "output_type": "stream",
       "stream": "stdout",
       "text": [
        "Clustering.ipynb\t\t Introduction.ipynb\t\tRecommender-System.ipynb  wordcountjob.pyc\r\n",
        "Dimensionality-Reduction2.ipynb  Locality-Sensitive-Hash.ipynb\ttimeit.ipynb\r\n",
        "Dimensionality-Reduction.ipynb\t Python-Graph-Lab.ipynb\t\tt.py\r\n",
        "Graph-Analysis.ipynb\t\t Python-Hadoop.ipynb\t\twordcountjob.py\r\n"
       ]
      }
     ],
     "prompt_number": 24
    },
    {
     "cell_type": "code",
     "collapsed": false,
     "input": [
      "# Collect shell command result in python variable\n",
      "files = !ls -1\n",
      "print len(files)\n",
      "# Use them in the Python style\n",
      "print files[0:3]"
     ],
     "language": "python",
     "metadata": {},
     "outputs": [
      {
       "output_type": "stream",
       "stream": "stdout",
       "text": [
        "13\n",
        "['Clustering.ipynb', 'Dimensionality-Reduction2.ipynb', 'Dimensionality-Reduction.ipynb']\n"
       ]
      }
     ],
     "prompt_number": 25
    },
    {
     "cell_type": "code",
     "collapsed": false,
     "input": [
      "# Pass python variables to shell commands\n",
      "first_file = files[0]\n",
      "!ls -l $first_file"
     ],
     "language": "python",
     "metadata": {},
     "outputs": [
      {
       "output_type": "stream",
       "stream": "stdout",
       "text": [
        "-rw-rw-r-- 1 azureuser azureuser 246559 Feb 25 10:50 Clustering.ipynb\r\n"
       ]
      }
     ],
     "prompt_number": 26
    },
    {
     "cell_type": "markdown",
     "metadata": {},
     "source": [
      "## Hadoop CLI from IPython Notebook\n",
      "\n",
      "There is no further magic as long as you understand Hadoop CLI and IPython's shell magic separately."
     ]
    },
    {
     "cell_type": "code",
     "collapsed": false,
     "input": [
      "!hadoop"
     ],
     "language": "python",
     "metadata": {},
     "outputs": [
      {
       "output_type": "stream",
       "stream": "stdout",
       "text": [
        "Warning: $HADOOP_HOME is deprecated.\r\n",
        "\r\n",
        "Usage: hadoop [--config confdir] COMMAND\r\n",
        "where COMMAND is one of:\r\n",
        "  namenode -format     format the DFS filesystem\r\n",
        "  secondarynamenode    run the DFS secondary namenode\r\n",
        "  namenode             run the DFS namenode\r\n",
        "  datanode             run a DFS datanode\r\n",
        "  dfsadmin             run a DFS admin client\r\n",
        "  mradmin              run a Map-Reduce admin client\r\n",
        "  fsck                 run a DFS filesystem checking utility\r\n",
        "  fs                   run a generic filesystem user client\r\n",
        "  balancer             run a cluster balancing utility\r\n",
        "  fetchdt              fetch a delegation token from the NameNode\r\n",
        "  jobtracker           run the MapReduce job Tracker node\r\n",
        "  pipes                run a Pipes job\r\n",
        "  tasktracker          run a MapReduce task Tracker node\r\n",
        "  historyserver        run job history servers as a standalone daemon\r\n",
        "  job                  manipulate MapReduce jobs\r\n",
        "  queue                get information regarding JobQueues\r\n",
        "  version              print the version\r\n",
        "  jar <jar>            run a jar file\r\n",
        "  distcp <srcurl> <desturl> copy file or directories recursively\r\n",
        "  archive -archiveName NAME -p <parent path> <src>* <dest> create a hadoop archive\r\n",
        "  classpath            prints the class path needed to get the\r\n",
        "                       Hadoop jar and the required libraries\r\n",
        "  daemonlog            get/set the log level for each daemon\r\n",
        " or\r\n",
        "  CLASSNAME            run the class named CLASSNAME\r\n",
        "Most commands print help when invoked w/o parameters.\r\n"
       ]
      }
     ],
     "prompt_number": 27
    },
    {
     "cell_type": "code",
     "collapsed": false,
     "input": [
      "!hadoop dfs -ls /"
     ],
     "language": "python",
     "metadata": {},
     "outputs": [
      {
       "output_type": "stream",
       "stream": "stdout",
       "text": [
        "Warning: $HADOOP_HOME is deprecated.\r\n",
        "\r\n"
       ]
      },
      {
       "output_type": "stream",
       "stream": "stdout",
       "text": [
        "Found 13 items\r\n",
        "drwxr-xr-x   - azureuser supergroup          0 2014-04-01 06:06 /backup\r\n",
        "-rw-r--r--   3 azureuser supergroup     214064 2014-04-01 05:58 /bigfile\r\n",
        "drwxr-xr-x   - azureuser supergroup          0 2014-04-01 07:38 /bigfile.out\r\n",
        "drwxr-xr-x   - azureuser supergroup          0 2014-04-01 07:39 /bigfile.out2\r\n",
        "drwxr-xr-x   - azureuser supergroup          0 2014-04-01 07:40 /bigfile.out3\r\n",
        "drwxr-xr-x   - azureuser supergroup          0 2014-04-01 07:41 /bigfile.out4\r\n",
        "-rw-r--r--   3 azureuser supergroup    6460232 2014-02-11 08:43 /bigfile.real\r\n",
        "drwxr-xr-x   - azureuser supergroup          0 2014-02-11 08:52 /freq\r\n",
        "drwxr-xr-x   - azureuser supergroup          0 2014-02-09 20:48 /ivy.output\r\n",
        "drwxr-xr-x   - azureuser supergroup          0"
       ]
      },
      {
       "output_type": "stream",
       "stream": "stdout",
       "text": [
        " 2014-02-09 20:50 /ivy.output2\r\n",
        "-rw-r--r--   3 azureuser supergroup      10525 2014-01-30 06:33 /ivy.xml\r\n",
        "drwxr-xr-x   - azureuser supergroup          0 2014-04-01 06:34 /opt\r\n",
        "drwxr-xr-x   - azureuser supergroup          0 2014-02-09 20:50 /user\r\n"
       ]
      }
     ],
     "prompt_number": 28
    },
    {
     "cell_type": "code",
     "collapsed": false,
     "input": [
      "# Let's build a shortcut\n",
      "DFSCMD = 'hadoop dfs'\n",
      "!$DFSCMD -ls /"
     ],
     "language": "python",
     "metadata": {},
     "outputs": [
      {
       "output_type": "stream",
       "stream": "stdout",
       "text": [
        "Warning: $HADOOP_HOME is deprecated.\r\n",
        "\r\n"
       ]
      },
      {
       "output_type": "stream",
       "stream": "stdout",
       "text": [
        "Found 13 items\r\n",
        "drwxr-xr-x   - azureuser supergroup          0 2014-04-01 06:06 /backup\r\n",
        "-rw-r--r--   3 azureuser supergroup     214064 2014-04-01 05:58 /bigfile\r\n",
        "drwxr-xr-x   - azureuser supergroup          0 2014-04-01 07:38 /bigfile.out\r\n",
        "drwxr-xr-x   - azureuser supergroup          0 2014-04-01 07:39 /bigfile.out2\r\n",
        "drwxr-xr-x   - azureuser supergroup          0 2014-04-01 07:40 /bigfile.out3\r\n",
        "drwxr-xr-x   - azureuser supergroup          0 2014-04-01 07:41 /bigfile.out4\r\n",
        "-rw-r--r--   3 azureuser supergroup    6460232 2014-02-11 08:43 /bigfile.real\r\n",
        "drwxr-xr-x   - azureuser supergroup          0 2014-02-11 08:52 /freq\r\n",
        "drwxr-xr-x   - azureuser supergroup          0 2014-02-09 20:48 /ivy.output\r\n",
        "drwxr-xr-x   - azureuser supergroup          0 2014-02-09 20:50 /ivy.output2\r\n",
        "-rw-r--r--   3 azureuser supergroup      10525 2014-01-30 06:33 /ivy.xml\r\n",
        "drwxr-xr-x   - azureuser supergroup          0 2014-04-01 06:34 /opt\r\n",
        "drwxr-xr-x   - azureuser supergroup          0 2014-02-09 20:50 /user\r\n"
       ]
      }
     ],
     "prompt_number": 29
    },
    {
     "cell_type": "code",
     "collapsed": false,
     "input": [
      "# Delete output dir I created before.\n",
      "# Note, you may not have this file.\n",
      "!$DFSCMD -rmr '/bigfile.out*'\n",
      "!$DFSCMD -ls /"
     ],
     "language": "python",
     "metadata": {},
     "outputs": [
      {
       "output_type": "stream",
       "stream": "stdout",
       "text": [
        "Warning: $HADOOP_HOME is deprecated.\r\n",
        "\r\n"
       ]
      },
      {
       "output_type": "stream",
       "stream": "stdout",
       "text": [
        "Deleted hdfs://127.0.0.1:9000/bigfile.out\r\n",
        "Deleted hdfs://127.0.0.1:9000/bigfile.out2\r\n"
       ]
      },
      {
       "output_type": "stream",
       "stream": "stdout",
       "text": [
        "Deleted hdfs://127.0.0.1:9000/bigfile.out3\r\n",
        "Deleted hdfs://127.0.0.1:9000/bigfile.out4\r\n"
       ]
      },
      {
       "output_type": "stream",
       "stream": "stdout",
       "text": [
        "Warning: $HADOOP_HOME is deprecated.\r\n",
        "\r\n"
       ]
      },
      {
       "output_type": "stream",
       "stream": "stdout",
       "text": [
        "Found 9 items\r\n",
        "drwxr-xr-x   - azureuser supergroup          0 2014-04-01 06:06 /backup\r\n",
        "-rw-r--r--   3 azureuser supergroup     214064 2014-04-01 05:58 /bigfile\r\n",
        "-rw-r--r--   3 azureuser supergroup    6460232 2014-02-11 08:43 /bigfile.real\r\n",
        "drwxr-xr-x   - azureuser supergroup          0 2014-02-11 08:52 /freq\r\n",
        "drwxr-xr-x   - azureuser supergroup          0 2014-02-09 20:48 /ivy.output\r\n",
        "drwxr-xr-x   - azureuser supergroup          0 2014-02-09 20:50 /ivy.output2\r\n",
        "-rw-r--r--   3 azureuser supergroup      10525 2014-01-30 06:33 /ivy.xml\r\n",
        "drwxr-xr-x   - azureuser supergroup          0 2014-04-01 06:34 /opt\r\n",
        "drwxr-xr-x   - azureuser supergroup          0 2014-02-09 20:50 /user\r\n"
       ]
      }
     ],
     "prompt_number": 30
    },
    {
     "cell_type": "code",
     "collapsed": false,
     "input": [
      "# Run a MapReduce job on hadoop\n",
      "!hadoop jar /opt/hadoop/hadoop-examples-1.0.3.jar wordcount /bigfile/ /bigfile.out"
     ],
     "language": "python",
     "metadata": {},
     "outputs": [
      {
       "output_type": "stream",
       "stream": "stdout",
       "text": [
        "Warning: $HADOOP_HOME is deprecated.\r\n",
        "\r\n"
       ]
      },
      {
       "output_type": "stream",
       "stream": "stdout",
       "text": [
        "14/04/01 07:45:19 INFO input.FileInputFormat: Total input paths to process : 1\r\n"
       ]
      },
      {
       "output_type": "stream",
       "stream": "stdout",
       "text": [
        "14/04/01 07:45:19 INFO util.NativeCodeLoader: Loaded the native-hadoop library\r\n",
        "14/04/01 07:45:19 WARN snappy.LoadSnappy: Snappy native library not loaded\r\n"
       ]
      },
      {
       "output_type": "stream",
       "stream": "stdout",
       "text": [
        "14/04/01 07:45:20 INFO mapred.JobClient: Running job: job_201404010342_0023\r\n"
       ]
      },
      {
       "output_type": "stream",
       "stream": "stdout",
       "text": [
        "14/04/01 07:45:21 INFO mapred.JobClient:  map 0% reduce 0%\r\n"
       ]
      },
      {
       "output_type": "stream",
       "stream": "stdout",
       "text": [
        "14/04/01 07:45:34 INFO mapred.JobClient:  map 100% reduce 0%\r\n"
       ]
      },
      {
       "output_type": "stream",
       "stream": "stdout",
       "text": [
        "14/04/01 07:45:46 INFO mapred.JobClient:  map 100% reduce 100%\r\n"
       ]
      },
      {
       "output_type": "stream",
       "stream": "stdout",
       "text": [
        "14/04/01 07:45:51 INFO mapred.JobClient: Job complete: job_201404010342_0023\r\n",
        "14/04/01 07:45:51 INFO mapred.JobClient: Counters: 29\r\n",
        "14/04/01 07:45:51 INFO mapred.JobClient:   Job Counters \r\n",
        "14/04/01 07:45:51 INFO mapred.JobClient:     Launched reduce tasks=1\r\n",
        "14/04/01 07:45:51 INFO mapred.JobClient:     SLOTS_MILLIS_MAPS=14196\r\n",
        "14/04/01 07:45:51 INFO mapred.JobClient:     Total time spent by all reduces waiting after reserving slots (ms)=0\r\n",
        "14/04/01 07:45:51 INFO mapred.JobClient:     Total time spent by all maps waiting after reserving slots (ms)=0\r\n",
        "14/04/01 07:45:51 INFO mapred.JobClient:     Launched map tasks=1\r\n",
        "14/04/01 07:45:51 INFO mapred.JobClient:     Data-local map tasks=1\r\n",
        "14/04/01 07:45:51 INFO mapred.JobClient:     SLOTS_MILLIS_REDUCES=10956\r\n",
        "14/04/01 07:45:51 INFO mapred.JobClient:   File Output Format Counters \r\n",
        "14/04/01 07:45:51 INFO mapred.JobClient:     Bytes Written=73854\r\n",
        "14/04/01 07:45:51 INFO mapred.JobClient:   FileSystemCounters\r\n",
        "14/04/01 07:45:51 INFO mapred.JobClient:     FILE_BYTES_READ=104387\r\n",
        "14/04/01 07:45:51 INFO mapred.JobClient:     HDFS_BYTES_READ=214158\r\n",
        "14/04/01 07:45:51 INFO mapred.JobClient:     FILE_BYTES_WRITTEN=252279\r\n",
        "14/04/01 07:45:51 INFO mapred.JobClient:     HDFS_BYTES_WRITTEN=73854\r\n",
        "14/04/01 07:45:51 INFO mapred.JobClient:   File Input Format Counters \r\n",
        "14/04/01 07:45:51 INFO mapred.JobClient:     Bytes Read=214064\r\n",
        "14/04/01 07:45:51 INFO mapred.JobClient:   Map-Reduce Framework\r\n",
        "14/04/01 07:45:51 INFO mapred.JobClient:     Map output materialized bytes=104387\r\n",
        "14/04/01 07:45:51 INFO mapred.JobClient:     Map input records=5803\r\n",
        "14/04/01 07:45:51 INFO mapred.JobClient:     Reduce shuffle bytes=104387\r\n",
        "14/04/01 07:45:51 INFO mapred.JobClient:     Spilled Records=15496\r\n",
        "14/04/01 07:45:51 INFO mapred.JobClient:     Map output bytes=325476\r\n",
        "14/04/01 07:45:51 INFO mapred.JobClient:     CPU time spent (ms)=4140\r\n",
        "14/04/01 07:45:51 INFO mapred.JobClient:     Total committed heap usage (bytes)=208076800\r\n",
        "14/04/01 07:45:51 INFO mapred.JobClient:     Combine input records=34683\r\n",
        "14/04/01 07:45:51 INFO mapred.JobClient:     SPLIT_RAW_BYTES=94\r\n",
        "14/04/01 07:45:51 INFO mapred.JobClient:     Reduce input records=7748\r\n",
        "14/04/01 07:45:51 INFO mapred.JobClient:     Reduce input groups=7748\r\n",
        "14/04/01 07:45:51 INFO mapred.JobClient:     Combine output records=7748\r\n",
        "14/04/01 07:45:51 INFO mapred.JobClient:     Physical memory (bytes) snapshot=257912832\r\n",
        "14/04/01 07:45:51 INFO mapred.JobClient:     Reduce output records=7748\r\n",
        "14/04/01 07:45:51 INFO mapred.JobClient:     Virtual memory (bytes) snapshot=3081834496\r\n",
        "14/04/01 07:45:51 INFO mapred.JobClient:     Map output records=34683\r\n"
       ]
      }
     ],
     "prompt_number": 31
    },
    {
     "cell_type": "code",
     "collapsed": false,
     "input": [
      "# Check the output\n",
      "!$DFSCMD -ls /bigfile.out\n",
      "# In order not to clustter the notebook,\n",
      "# we collect the results and only print part of them\n",
      "output = !$DFSCMD -tail /bigfile.out/part-r-00000\n",
      "print '\\n'.join(output[-5:])"
     ],
     "language": "python",
     "metadata": {},
     "outputs": [
      {
       "output_type": "stream",
       "stream": "stdout",
       "text": [
        "Warning: $HADOOP_HOME is deprecated.\r\n",
        "\r\n"
       ]
      },
      {
       "output_type": "stream",
       "stream": "stdout",
       "text": [
        "Found 3 items"
       ]
      },
      {
       "output_type": "stream",
       "stream": "stdout",
       "text": [
        "\r\n",
        "-rw-r--r--   3 azureuser supergroup          0 2014-04-01 07:45 /bigfile.out/_SUCCESS\r\n",
        "drwxr-xr-x   - azureuser supergroup          0 2014-04-01 07:45 /bigfile.out/_logs\r\n",
        "-rw-r--r--   3 azureuser supergroup      73854 2014-04-01 07:45 /bigfile.out/part-r-00000\r\n"
       ]
      },
      {
       "output_type": "stream",
       "stream": "stdout",
       "text": [
        "youth;\t1\n",
        "youthful\t1\n",
        "zanies.\t1\n",
        "\u00a9\t1\n",
        "\u2022\t4\n"
       ]
      }
     ],
     "prompt_number": 32
    },
    {
     "cell_type": "code",
     "collapsed": false,
     "input": [
      "!hadoop jar $HADOOP_PREFIX/contrib/streaming/hadoop-streaming-1.0.3.jar -mapper cat -reducer wc -input /bigfile -output /bigfile.out2\n",
      "# Had better use:\n",
      "# !hadoop jar $$HADOOP_PREFIX/contrib/streaming/hadoop-streaming-1.0.3.jar -mapper cat -reducer wc -input /bigfile -output /bigfile.out2\n",
      "# This is because \"$\" was interpolated in Python.\n",
      "# To avoid possible pollution from current working space, we use \"$$\" to escape the $-sign."
     ],
     "language": "python",
     "metadata": {},
     "outputs": [
      {
       "output_type": "stream",
       "stream": "stdout",
       "text": [
        "Warning: $HADOOP_HOME is deprecated.\r\n",
        "\r\n"
       ]
      },
      {
       "output_type": "stream",
       "stream": "stdout",
       "text": [
        "packageJobJar: [/opt/hadoop/tmp/hadoop-unjar7552699087287756975/] [] /tmp/streamjob201067849909695170.jar tmpDir=null\r\n"
       ]
      },
      {
       "output_type": "stream",
       "stream": "stdout",
       "text": [
        "14/04/01 07:45:56 INFO util.NativeCodeLoader: Loaded the native-hadoop library\r\n",
        "14/04/01 07:45:56 WARN snappy.LoadSnappy: Snappy native library not loaded\r\n",
        "14/04/01 07:45:56 INFO mapred.FileInputFormat: Total input paths to process : 1\r\n"
       ]
      },
      {
       "output_type": "stream",
       "stream": "stdout",
       "text": [
        "14/04/01 07:45:56 INFO streaming.StreamJob: getLocalDirs(): [/opt/hadoop/tmp/mapred/local]\r\n",
        "14/04/01 07:45:56 INFO streaming.StreamJob: Running job: job_201404010342_0024\r\n",
        "14/04/01 07:45:56 INFO streaming.StreamJob: To kill this job, run:\r\n",
        "14/04/01 07:45:56 INFO streaming.StreamJob: /opt/hadoop-1.0.3/libexec/../bin/hadoop job  -Dmapred.job.tracker=127.0.0.1:9001 -kill job_201404010342_0024\r\n",
        "14/04/01 07:45:56 INFO streaming.StreamJob: Tracking URL: http://localhost:50030/jobdetails.jsp?jobid=job_201404010342_0024\r\n"
       ]
      },
      {
       "output_type": "stream",
       "stream": "stdout",
       "text": [
        "14/04/01 07:45:57 INFO streaming.StreamJob:  map 0%  reduce 0%\r\n"
       ]
      },
      {
       "output_type": "stream",
       "stream": "stdout",
       "text": [
        "14/04/01 07:46:12 INFO streaming.StreamJob:  map 100%  reduce 0%\r\n"
       ]
      },
      {
       "output_type": "stream",
       "stream": "stdout",
       "text": [
        "14/04/01 07:46:21 INFO streaming.StreamJob:  map 100%  reduce 17%\r\n"
       ]
      },
      {
       "output_type": "stream",
       "stream": "stdout",
       "text": [
        "14/04/01 07:46:27 INFO streaming.StreamJob:  map 100%  reduce 100%\r\n"
       ]
      },
      {
       "output_type": "stream",
       "stream": "stdout",
       "text": [
        "14/04/01 07:46:34 INFO streaming.StreamJob: Job complete: job_201404010342_0024\r\n",
        "14/04/01 07:46:34 INFO streaming.StreamJob: Output: /bigfile.out2\r\n"
       ]
      }
     ],
     "prompt_number": 33
    },
    {
     "cell_type": "code",
     "collapsed": false,
     "input": [
      "# The result of \"wc\" command on Hadoop\n",
      "!$DFSCMD -cat /bigfile.out2/part-00000"
     ],
     "language": "python",
     "metadata": {},
     "outputs": [
      {
       "output_type": "stream",
       "stream": "stdout",
       "text": [
        "Warning: $HADOOP_HOME is deprecated.\r\n",
        "\r\n"
       ]
      },
      {
       "output_type": "stream",
       "stream": "stdout",
       "text": [
        "   5803   34683  219867\t\r\n"
       ]
      }
     ],
     "prompt_number": 34
    },
    {
     "cell_type": "code",
     "collapsed": false,
     "input": [
      "# Let's check by running a wc directly\n",
      "!$DFSCMD -cat /bigfile | wc"
     ],
     "language": "python",
     "metadata": {},
     "outputs": [
      {
       "output_type": "stream",
       "stream": "stdout",
       "text": [
        "Warning: $HADOOP_HOME is deprecated.\r\n",
        "\r\n"
       ]
      },
      {
       "output_type": "stream",
       "stream": "stdout",
       "text": [
        "   5803   34683  214064\r\n"
       ]
      }
     ],
     "prompt_number": 35
    },
    {
     "cell_type": "markdown",
     "metadata": {},
     "source": [
      "**EXERCISE**:\n",
      "Investigate what is the difference. And Why."
     ]
    },
    {
     "cell_type": "code",
     "collapsed": false,
     "input": [
      "# Let programmably construct the Hadoop Streaming command-line\n",
      "def construct_streaming_options(mapper, reducer, input, output):\n",
      "    return ' '.join(['-mapper', mapper,\n",
      "                     '-reducer', reducer,\n",
      "                     '-input', input,\n",
      "                     '-output', output])\n",
      "    \n",
      "STREAMINGCMD = 'hadoop jar $HADOOP_PREFIX/contrib/streaming/hadoop-streaming-1.0.3.jar'\n",
      "options = construct_streaming_options('cat', 'wc', '/bigfile', '/bigfile.out3')\n",
      "print 'STREAMINGCMD:', STREAMINGCMD\n",
      "print 'options:', options\n",
      "!$STREAMINGCMD $options\n",
      "!$DFSCMD -ls /bigfile.out3"
     ],
     "language": "python",
     "metadata": {},
     "outputs": [
      {
       "output_type": "stream",
       "stream": "stdout",
       "text": [
        "STREAMINGCMD: hadoop jar $HADOOP_PREFIX/contrib/streaming/hadoop-streaming-1.0.3.jar\n",
        "options: -mapper cat -reducer wc -input /bigfile -output /bigfile.out3\n",
        "Warning: $HADOOP_HOME is deprecated.\r\n",
        "\r\n"
       ]
      },
      {
       "output_type": "stream",
       "stream": "stdout",
       "text": [
        "packageJobJar: [/opt/hadoop/tmp/hadoop-unjar1891916497738545033/] [] /tmp/streamjob1831321252892753421.jar tmpDir=null\r\n"
       ]
      },
      {
       "output_type": "stream",
       "stream": "stdout",
       "text": [
        "14/04/01 07:46:39 INFO util.NativeCodeLoader: Loaded the native-hadoop library\r\n",
        "14/04/01 07:46:39 WARN snappy.LoadSnappy: Snappy native library not loaded\r\n",
        "14/04/01 07:46:39 INFO mapred.FileInputFormat: Total input paths to process : 1\r\n"
       ]
      },
      {
       "output_type": "stream",
       "stream": "stdout",
       "text": [
        "14/04/01 07:46:39 INFO streaming.StreamJob: getLocalDirs(): [/opt/hadoop/tmp/mapred/local]\r\n"
       ]
      },
      {
       "output_type": "stream",
       "stream": "stdout",
       "text": [
        "14/04/01 07:46:39 INFO streaming.StreamJob: Running job: job_201404010342_0025\r\n",
        "14/04/01 07:46:39 INFO streaming.StreamJob: To kill this job, run:\r\n",
        "14/04/01 07:46:39 INFO streaming.StreamJob: /opt/hadoop-1.0.3/libexec/../bin/hadoop job  -Dmapred.job.tracker=127.0.0.1:9001 -kill job_201404010342_0025\r\n",
        "14/04/01 07:46:39 INFO streaming.StreamJob: Tracking URL: http://localhost:50030/jobdetails.jsp?jobid=job_201404010342_0025\r\n"
       ]
      },
      {
       "output_type": "stream",
       "stream": "stdout",
       "text": [
        "14/04/01 07:46:40 INFO streaming.StreamJob:  map 0%  reduce 0%\r\n"
       ]
      },
      {
       "output_type": "stream",
       "stream": "stdout",
       "text": [
        "14/04/01 07:46:58 INFO streaming.StreamJob:  map 100%  reduce 0%\r\n"
       ]
      },
      {
       "output_type": "stream",
       "stream": "stdout",
       "text": [
        "14/04/01 07:47:10 INFO streaming.StreamJob:  map 100%  reduce 100%\r\n"
       ]
      },
      {
       "output_type": "stream",
       "stream": "stdout",
       "text": [
        "14/04/01 07:47:16 INFO streaming.StreamJob: Job complete: job_201404010342_0025\r\n",
        "14/04/01 07:47:16 INFO streaming.StreamJob: Output: /bigfile.out3\r\n"
       ]
      },
      {
       "output_type": "stream",
       "stream": "stdout",
       "text": [
        "Warning: $HADOOP_HOME is deprecated.\r\n",
        "\r\n"
       ]
      },
      {
       "output_type": "stream",
       "stream": "stdout",
       "text": [
        "Found 3 items\r\n",
        "-rw-r--r--   3 azureuser supergroup          0 2014-04-01 07:47 /bigfile.out3/_SUCCESS\r\n",
        "drwxr-xr-x   - azureuser supergroup          0 2014-04-01 07:46 /bigfile.out3/_logs\r\n",
        "-rw-r--r--   3 azureuser supergroup         25 2014-04-01 07:47 /bigfile.out3/part-00000\r\n"
       ]
      }
     ],
     "prompt_number": 36
    },
    {
     "cell_type": "markdown",
     "metadata": {},
     "source": [
      "## MRJob\n",
      "\n",
      "`mrjob` is well documented.\n",
      "See the docs for more information: http://mrjob.readthedocs.org/en/latest/\n",
      "\n",
      "The general workflow of `mrjob`:\n",
      "\n",
      "   * Write you job as a Python class, which provides `mapper`, `combiner` and `reducer`.\n",
      "   * `python myjob.py <input>` to test it locally.\n",
      "   * `python myjob.py -r hadoop <input>` to run on Hadoop.\n",
      "   * `python myjob.py -r hadoop hdfs://path/to/your/input/ --output-dir hdfs://path/to/your/output/` \n",
      "   to use files HDFS.\n",
      "   \n",
      "`mrjob` wraps Hadoop Streaming to take care of some I/O details.\n",
      "So the code is very concise, looking like pseudo-code.\n",
      "It's easy to programmably construct `mrjob` command lines.\n",
      "Just refer to the above streaming example.\n",
      "Since `mrjob` provides its own runner, we demonstrate it in the following cells.\n",
      "\n",
      "**NOTE**:\n",
      "The interface is in a generator style.\n",
      "[further read](http://www.dabeaz.com/generators/index.html)."
     ]
    },
    {
     "cell_type": "code",
     "collapsed": false,
     "input": [
      "%%file wordcountjob.py\n",
      "from mrjob.job import MRJob\n",
      "import re\n",
      "\n",
      "WORD_RE = re.compile(r\"[\\w']+\")\n",
      "\n",
      "class MRWordFreqCount(MRJob):\n",
      "\n",
      "    def mapper(self, _, line):\n",
      "        for word in WORD_RE.findall(line):\n",
      "            yield (word.lower(), 1)\n",
      "\n",
      "    def combiner(self, word, counts):\n",
      "        yield (word, sum(counts))\n",
      "\n",
      "    def reducer(self, word, counts):\n",
      "        yield (word, sum(counts))\n",
      "\n",
      "if __name__ == '__main__':\n",
      "    MRWordFreqCount.run()"
     ],
     "language": "python",
     "metadata": {},
     "outputs": [
      {
       "output_type": "stream",
       "stream": "stdout",
       "text": [
        "Overwriting wordcountjob.py\n"
       ]
      }
     ],
     "prompt_number": 37
    },
    {
     "cell_type": "code",
     "collapsed": false,
     "input": [
      "# Note the above \"%%file\" magic will really write this file when executed.\n",
      "# Be careful not to override your work..\n",
      "!ls -l wordcountjob.py"
     ],
     "language": "python",
     "metadata": {},
     "outputs": [
      {
       "output_type": "stream",
       "stream": "stdout",
       "text": [
        "-rw-rw-r-- 1 azureuser azureuser 411 Apr  1 07:47 wordcountjob.py\r\n"
       ]
      }
     ],
     "prompt_number": 38
    },
    {
     "cell_type": "code",
     "collapsed": false,
     "input": [
      "from wordcountjob import MRWordFreqCount\n",
      "job = MRWordFreqCount(args=['-r', 'hadoop',                         # Specify \"hadoop\" as the backend\n",
      "                                                                    #     (Can be \"local\" or \"emr\")\n",
      "                            'hdfs:///bigfile',                      # Equivalent to -input option of Hadoop Streaming\n",
      "                                                                    #     (Can be a local path)\n",
      "                            '--output-dir', 'hdfs:///bigfile.out4', # Equivalent to -output option of Hadoop Streaming\n",
      "                                                                    #     (Can be a local path)\n",
      "                            '--no-output'])\n",
      "runner = job.make_runner()\n",
      "runner.run()"
     ],
     "language": "python",
     "metadata": {},
     "outputs": [],
     "prompt_number": 39
    },
    {
     "cell_type": "code",
     "collapsed": false,
     "input": [
      "lines = runner.stream_output()\n",
      "# Just show you some example output\n",
      "print lines.next()\n",
      "print lines.next()\n",
      "print lines.next()"
     ],
     "language": "python",
     "metadata": {},
     "outputs": [
      {
       "output_type": "stream",
       "stream": "stdout",
       "text": [
        "\"'\"\t74\n",
        "\n",
        "\"'a\"\t1\n",
        "\n",
        "\"'above\"\t1\n",
        "\n"
       ]
      }
     ],
     "prompt_number": 40
    },
    {
     "cell_type": "markdown",
     "metadata": {},
     "source": [
      "## Post-processing of the MapReduce Job\n",
      "\n",
      "Let's re-do some of the problems from [homework1](https://course.ie.cuhk.edu.hk/~engg4030/homework/).\n",
      "You will get a feel of the integrated working environment we gradually build up during this semester."
     ]
    },
    {
     "cell_type": "code",
     "collapsed": false,
     "input": [
      "# Get the output and sort.\n",
      "lines = runner.stream_output()\n",
      "sorted_lines = sorted(lines, key=lambda x: int(x.split('\\t')[1]), reverse=True)\n",
      "sorted_lines[:5]"
     ],
     "language": "python",
     "metadata": {},
     "outputs": [
      {
       "metadata": {},
       "output_type": "pyout",
       "prompt_number": 41,
       "text": [
        "['\"i\"\\t904\\n', '\"the\"\\t869\\n', '\"and\"\\t818\\n', '\"to\"\\t663\\n', '\"of\"\\t640\\n']"
       ]
      }
     ],
     "prompt_number": 41
    },
    {
     "cell_type": "markdown",
     "metadata": {},
     "source": [
      "Note, for demo purpose, we sort inside this notebook. In practice (for big data set),\n",
      "\n",
      "   * You may want to sort in Hadoop \n",
      "   and load part of it in IPython Notebook for post-processing/ visualization\n",
      "   * Even if you want to sort locally, partial sort via heap can be a better choice\n",
      "   ( `heapq.nlargest` used in [tutorial10](https://course.ie.cuhk.edu.hk/~engg4030/tutorial/tutorial10/) )"
     ]
    },
    {
     "cell_type": "code",
     "collapsed": false,
     "input": [
      "num_to_plot = 20\n",
      "labels = map(lambda x: x.split('\\t')[0], sorted_lines[:num_to_plot])\n",
      "counts = map(lambda x: int(x.split('\\t')[1]), sorted_lines[:num_to_plot])\n",
      "bar(range(len(counts)), counts)\n",
      "xticks(range(len(counts)), labels, rotation=90)"
     ],
     "language": "python",
     "metadata": {},
     "outputs": [
      {
       "metadata": {},
       "output_type": "pyout",
       "prompt_number": 42,
       "text": [
        "([<matplotlib.axis.XTick at 0x4847fd0>,\n",
        "  <matplotlib.axis.XTick at 0x4847e90>,\n",
        "  <matplotlib.axis.XTick at 0x40eb110>,\n",
        "  <matplotlib.axis.XTick at 0x40eb710>,\n",
        "  <matplotlib.axis.XTick at 0x40ebd90>,\n",
        "  <matplotlib.axis.XTick at 0x40e5450>,\n",
        "  <matplotlib.axis.XTick at 0x45dc890>,\n",
        "  <matplotlib.axis.XTick at 0x45c4190>,\n",
        "  <matplotlib.axis.XTick at 0x45c4810>,\n",
        "  <matplotlib.axis.XTick at 0x45c4e90>,\n",
        "  <matplotlib.axis.XTick at 0x45bb550>,\n",
        "  <matplotlib.axis.XTick at 0x45bbbd0>,\n",
        "  <matplotlib.axis.XTick at 0x45d0290>,\n",
        "  <matplotlib.axis.XTick at 0x45d0910>,\n",
        "  <matplotlib.axis.XTick at 0x45d0f90>,\n",
        "  <matplotlib.axis.XTick at 0x45b9650>,\n",
        "  <matplotlib.axis.XTick at 0x45b9cd0>,\n",
        "  <matplotlib.axis.XTick at 0x4a3f390>,\n",
        "  <matplotlib.axis.XTick at 0x4a3fa10>,\n",
        "  <matplotlib.axis.XTick at 0x4a420d0>],\n",
        " <a list of 20 Text xticklabel objects>)"
       ]
      },
      {
       "metadata": {},
       "output_type": "display_data",
       "png": "[encoded data removed]",
       "text": [
        "<matplotlib.figure.Figure at 0x48495d0>"
       ]
      }
     ],
     "prompt_number": 42
    },
    {
     "cell_type": "code",
     "collapsed": false,
     "input": [
      "# Cut the reference to runner and wait for Garbage Collection.\n",
      "# The destructor of runner will called to cleanup resources.\n",
      "del runner"
     ],
     "language": "python",
     "metadata": {},
     "outputs": [],
     "prompt_number": 43
    },
    {
     "cell_type": "markdown",
     "metadata": {},
     "source": [
      "A better pattern to ensure resource is returned is the `with` statement.\n",
      "\n",
      "```\n",
      "with job.make_runner() as runner:\n",
      "    runner.run()\n",
      "    # Do other things with runner, e.g. get output\n",
      "```"
     ]
    },
    {
     "cell_type": "markdown",
     "metadata": {},
     "source": [
      "**EXERCISE**:\n",
      "Try to construct your own convenient Hadoop workflow in IPython without other libraries like `mrjob`.\n",
      "\n",
      "   * You can use `%%file` magic to maintain mapper and reducer scripts.\n",
      "   * You can use Python string operation to construct the Hadoop CLI options.\n",
      "   * You can pass python variables to shell for the execution.\n",
      "\n",
      "**EXERCISE**:\n",
      "Try to compare other Python bindings in terms of execution efficiency and devlopement efficiency.\n",
      "See references for some pointers.\n",
      "\n",
      "## References\n",
      "\n",
      "   * A [blog post](http://blog.cloudera.com/blog/2013/01/a-guide-to-python-frameworks-for-hadoop/)\n",
      "   from Cloudera to compare different Python bindings.\n",
      "   [(code repo)](https://github.com/cloudera/python-ngrams).\n",
      "   [(examples)](https://github.com/Yelp/mrjob/tree/master/mrjob/examples)."
     ]
    }
   ],
   "metadata": {}
  }
 ]
}