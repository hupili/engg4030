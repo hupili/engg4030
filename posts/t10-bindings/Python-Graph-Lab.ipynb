{
 "metadata": {
  "name": ""
 },
 "nbformat": 3,
 "nbformat_minor": 0,
 "worksheets": [
  {
   "cells": [
    {
     "cell_type": "markdown",
     "metadata": {},
     "source": [
      "# GraphLab Binding in Python\n",
      "\n",
      "Author: [Pili Hu](http://hupili.net/)\n",
      "\n",
      "We try [GraphLab Create](http://graphlab.com/products/create/index.html) in this notebook.\n",
      "\n",
      "From a practitioner's point of view:\n",
      "\n",
      "   * `GraphLab`:\n",
      "      * A bunch of C++ source codes\n",
      "      * Implementation of multi-core/ multi-node graph-based communication infrastructure\n",
      "      * You write programms in a [vertex-oriented model](http://docs.graphlab.org/using_graphlab_distributed_graph_vertex_program.html#using_graphlab_vertex_program)\n",
      "      * Compile to get executables\n",
      "      * Use MPI to execute on multiple nodes\n",
      "   * `GraphLab Create`:\n",
      "      * A Python binding\n",
      "      * Do pre-processing/ post-processing/ visualization in Python: convenient and feature-rich\n",
      "      * Do heavy computation in GraphLab: efficient"
     ]
    },
    {
     "cell_type": "markdown",
     "metadata": {},
     "source": [
      "## Preparation\n",
      "\n",
      "Following the Quick Start guide: http://graphlab.com/products/create/quick-start-guide.html\n",
      "\n",
      "We have listed common ways to install Python packages in [tutorial9](https://course.ie.cuhk.edu.hk/~engg4030/tutorial/tutorial9/).\n",
      "In this tutorial, we use `virtualenv`.\n",
      "GraphLab depends on multiple packages and is sensitive to the versions.\n",
      "Everything had better be installed in a coherent virtual environment.\n",
      "\n",
      "```\n",
      "$pip install --user virtualenv\n",
      "$virtualenv graphlab\n",
      "$source graphlab/bin/activate\n",
      "$pip install graphlab-create\n",
      "$pip install ipython\n",
      "$pip install pyzmq tornado jinja2\n",
      "```\n",
      "\n",
      "You need to enter the virtual environment via `source graphlab/bin/activate`.\n",
      "If you work with graphlab create everyday, \n",
      "you can put this line in `$HOME/.bashrc` for convenience.\n",
      "\n",
      "If you are in virtualenv, the shell prompt looks like this:\n",
      "\n",
      "```\n",
      "(graphlab)azureuser@test-hpl /home/azureuser/tutorial\n",
      "$\n",
      "```\n",
      "\n",
      "Be sure to run IPython Notebook when the graphlab virtualenv is activated.\n",
      "\n",
      "```\n",
      "ipython notebook --pylab=inline\n",
      "```"
     ]
    },
    {
     "cell_type": "markdown",
     "metadata": {},
     "source": [
      "## PageRank\n",
      "\n",
      "source: http://graphlab.com/products/create/quick-start-guide.html"
     ]
    },
    {
     "cell_type": "code",
     "collapsed": false,
     "input": [
      "import graphlab\n",
      "sf = graphlab.SFrame(data='http://graphlab.com/files/datasets/freebase_performances.csv')\n",
      "print sf\n",
      "g = graphlab.Graph()\n",
      "g = g.add_edges(sf, 'actor_name', 'film_name')\n",
      "pr = graphlab.pagerank.create(g)\n",
      "pr.get('pagerank').topk(column_name='pagerank')"
     ],
     "language": "python",
     "metadata": {},
     "outputs": [
      {
       "output_type": "stream",
       "stream": "stdout",
       "text": [
        "             actor_name                       character  \\\n",
        "0  0  David A. R. White                      Adam Riley   \n",
        "1  1       Lonnie Colon        'Captain' Robert Jackson   \n",
        "2  2        Brad Heller                    Jacob Krause   \n",
        "3  3        Logan White                         Carissa   \n",
        "4  4       Monte Perlin            Commander Fredericks   \n",
        "5  5       John Gilbert                  Peter McCollum   \n",
        "6  6       Kevin Downes                   Charles Baker   \n",
        "7  7          Asad Farr                 Global Chairman   \n",
        "8  8  Don Parker Decker  President of the United States   \n",
        "9  9         Bree Pavey                   Audrey Thomas   \n",
        "\n",
        "                           film_name  year  \n",
        "0  The Moment After 2: The Awakening  2006  \n",
        "1  The Moment After 2: The Awakening  2006  \n",
        "2  The Moment After 2: The Awakening  2006  \n",
        "3  The Moment After 2: The Awakening  2006  \n",
        "4  The Moment After 2: The Awakening  2006  \n",
        "5  The Moment After 2: The Awakening  2006  \n",
        "6  The Moment After 2: The Awakening  2006  \n",
        "7  The Moment After 2: The Awakening  2006  \n",
        "8  The Moment After 2: The Awakening  2006  \n",
        "9  The Moment After 2: The Awakening  2006  \n",
        "\n",
        "...\n",
        "[156468 rows x 5 columns]\n",
        "\n"
       ]
      },
      {
       "html": [
        "<div style=\"max-height:1000px;max-width:1500px;overflow:auto;\">\n",
        "<table border=\"1\" class=\"dataframe\">\n",
        "  <thead>\n",
        "    <tr style=\"text-align: right;\">\n",
        "      <th></th>\n",
        "      <th>__id</th>\n",
        "      <th>pagerank</th>\n",
        "    </tr>\n",
        "  </thead>\n",
        "  <tbody>\n",
        "    <tr>\n",
        "      <th>0</th>\n",
        "      <td>                            Redemption</td>\n",
        "      <td> 11.841677</td>\n",
        "    </tr>\n",
        "    <tr>\n",
        "      <th>1</th>\n",
        "      <td>                             Sharknado</td>\n",
        "      <td> 11.668914</td>\n",
        "    </tr>\n",
        "    <tr>\n",
        "      <th>2</th>\n",
        "      <td>                            The Family</td>\n",
        "      <td> 10.560418</td>\n",
        "    </tr>\n",
        "    <tr>\n",
        "      <th>3</th>\n",
        "      <td>                                  8:46</td>\n",
        "      <td> 10.148118</td>\n",
        "    </tr>\n",
        "    <tr>\n",
        "      <th>4</th>\n",
        "      <td>           Abraham Lincoln vs. Zombies</td>\n",
        "      <td>  9.478747</td>\n",
        "    </tr>\n",
        "    <tr>\n",
        "      <th>5</th>\n",
        "      <td>             Dean Teaster's Ghost Town</td>\n",
        "      <td>  9.190300</td>\n",
        "    </tr>\n",
        "    <tr>\n",
        "      <th>6</th>\n",
        "      <td> How Do You Write a Joe Schermann Song</td>\n",
        "      <td>  9.181248</td>\n",
        "    </tr>\n",
        "    <tr>\n",
        "      <th>7</th>\n",
        "      <td>                          The Showdown</td>\n",
        "      <td>  8.540713</td>\n",
        "    </tr>\n",
        "    <tr>\n",
        "      <th>8</th>\n",
        "      <td>                       Killing Kennedy</td>\n",
        "      <td>  8.526108</td>\n",
        "    </tr>\n",
        "    <tr>\n",
        "      <th>9</th>\n",
        "      <td>                     Meteor Apocalypse</td>\n",
        "      <td>  8.523713</td>\n",
        "    </tr>\n",
        "  </tbody>\n",
        "</table>\n",
        "<p>10 rows \u00d7 2 columns</p>\n",
        "</div>"
       ],
       "metadata": {},
       "output_type": "pyout",
       "prompt_number": 19,
       "text": [
        "                                    __id   pagerank\n",
        "0                             Redemption  11.841677\n",
        "1                              Sharknado  11.668914\n",
        "2                             The Family  10.560418\n",
        "3                                   8:46  10.148118\n",
        "4            Abraham Lincoln vs. Zombies   9.478747\n",
        "5              Dean Teaster's Ghost Town   9.190300\n",
        "6  How Do You Write a Joe Schermann Song   9.181248\n",
        "7                           The Showdown   8.540713\n",
        "8                        Killing Kennedy   8.526108\n",
        "9                      Meteor Apocalypse   8.523713\n",
        "\n",
        "[10 rows x 2 columns]"
       ]
      }
     ],
     "prompt_number": 19
    },
    {
     "cell_type": "code",
     "collapsed": false,
     "input": [
      "pr.get('total_pagerank')"
     ],
     "language": "python",
     "metadata": {},
     "outputs": [
      {
       "metadata": {},
       "output_type": "pyout",
       "prompt_number": 20,
       "text": [
        "25056.061963063054"
       ]
      }
     ],
     "prompt_number": 20
    },
    {
     "cell_type": "code",
     "collapsed": false,
     "input": [
      "pr.get('graph')"
     ],
     "language": "python",
     "metadata": {},
     "outputs": [
      {
       "metadata": {},
       "output_type": "pyout",
       "prompt_number": 21,
       "text": [
        "Graph({'num_edges': 156467, 'num_vertices': 97753})\n",
        "Fields:['year', 'character', '', 'pagerank', '__dst_id', 'delta', '__src_id', '__id']"
       ]
      }
     ],
     "prompt_number": 21
    },
    {
     "cell_type": "code",
     "collapsed": false,
     "input": [
      "pr.get('runtime')"
     ],
     "language": "python",
     "metadata": {},
     "outputs": [
      {
       "metadata": {},
       "output_type": "pyout",
       "prompt_number": 22,
       "text": [
        "0.7825409999999999"
       ]
      }
     ],
     "prompt_number": 22
    },
    {
     "cell_type": "code",
     "collapsed": false,
     "input": [
      "r = pr.get('pagerank')\n",
      "r"
     ],
     "language": "python",
     "metadata": {},
     "outputs": [
      {
       "metadata": {},
       "output_type": "pyout",
       "prompt_number": 23,
       "text": [
        "Columns:\n",
        "\t__id\tstr\n",
        "\tpagerank\tfloat\n",
        "\n",
        "Rows: 97753\n",
        "\n",
        "Data:\n",
        "                   __id  pagerank\n",
        "0     David A. R. White      0.15\n",
        "1            Chris Pine      0.15\n",
        "2         Brent Briscoe      0.15\n",
        "3           Mark Arnold      0.15\n",
        "4            Kid Beyond      0.15\n",
        "5          Edward Burns      0.15\n",
        "6        John Leguizamo      0.15\n",
        "7       Jessica Capshaw      0.15\n",
        "8        Kevin Jiggetts      0.15\n",
        "9  John Archer Lundgren      0.15\n",
        "\n",
        "...\n",
        "[97753 rows x 2 columns]\n"
       ]
      }
     ],
     "prompt_number": 23
    },
    {
     "cell_type": "markdown",
     "metadata": {},
     "source": [
      "## Recommender\n",
      "\n",
      "source: http://graphlab.com/learn/notebooks/five_line_recommender.html"
     ]
    },
    {
     "cell_type": "code",
     "collapsed": false,
     "input": [
      "import graphlab"
     ],
     "language": "python",
     "metadata": {},
     "outputs": [],
     "prompt_number": 24
    },
    {
     "cell_type": "code",
     "collapsed": false,
     "input": [
      "data = graphlab.SFrame.read_csv(\"http://s3.amazonaws.com/GraphLab-Datasets/movie_ratings/training_data.csv\", column_type_hints={\"rating\":int})\n",
      "data.head()"
     ],
     "language": "python",
     "metadata": {},
     "outputs": [
      {
       "html": [
        "<div style=\"max-height:1000px;max-width:1500px;overflow:auto;\">\n",
        "<table border=\"1\" class=\"dataframe\">\n",
        "  <thead>\n",
        "    <tr style=\"text-align: right;\">\n",
        "      <th></th>\n",
        "      <th>user</th>\n",
        "      <th>movie</th>\n",
        "      <th>rating</th>\n",
        "    </tr>\n",
        "  </thead>\n",
        "  <tbody>\n",
        "    <tr>\n",
        "      <th>0</th>\n",
        "      <td> Jacob Smith</td>\n",
        "      <td>                            Flirting with Disaster</td>\n",
        "      <td> 4</td>\n",
        "    </tr>\n",
        "    <tr>\n",
        "      <th>1</th>\n",
        "      <td> Jacob Smith</td>\n",
        "      <td>                                 Indecent Proposal</td>\n",
        "      <td> 3</td>\n",
        "    </tr>\n",
        "    <tr>\n",
        "      <th>2</th>\n",
        "      <td> Jacob Smith</td>\n",
        "      <td>                                     Runaway Bride</td>\n",
        "      <td> 2</td>\n",
        "    </tr>\n",
        "    <tr>\n",
        "      <th>3</th>\n",
        "      <td> Jacob Smith</td>\n",
        "      <td>                             Swiss Family Robinson</td>\n",
        "      <td> 1</td>\n",
        "    </tr>\n",
        "    <tr>\n",
        "      <th>4</th>\n",
        "      <td> Jacob Smith</td>\n",
        "      <td>                                       The Mexican</td>\n",
        "      <td> 2</td>\n",
        "    </tr>\n",
        "    <tr>\n",
        "      <th>5</th>\n",
        "      <td> Jacob Smith</td>\n",
        "      <td>                                 Maid in Manhattan</td>\n",
        "      <td> 4</td>\n",
        "    </tr>\n",
        "    <tr>\n",
        "      <th>6</th>\n",
        "      <td> Jacob Smith</td>\n",
        "      <td> A Charlie Brown Thanksgiving / The Mayflower V...</td>\n",
        "      <td> 3</td>\n",
        "    </tr>\n",
        "    <tr>\n",
        "      <th>7</th>\n",
        "      <td> Jacob Smith</td>\n",
        "      <td>                                            Brazil</td>\n",
        "      <td> 1</td>\n",
        "    </tr>\n",
        "    <tr>\n",
        "      <th>8</th>\n",
        "      <td> Jacob Smith</td>\n",
        "      <td>                                      Forrest Gump</td>\n",
        "      <td> 3</td>\n",
        "    </tr>\n",
        "    <tr>\n",
        "      <th>9</th>\n",
        "      <td> Jacob Smith</td>\n",
        "      <td>                             It Happened One Night</td>\n",
        "      <td> 4</td>\n",
        "    </tr>\n",
        "  </tbody>\n",
        "</table>\n",
        "<p>10 rows \u00d7 3 columns</p>\n",
        "</div>"
       ],
       "metadata": {},
       "output_type": "pyout",
       "prompt_number": 25,
       "text": [
        "          user                                              movie  rating\n",
        "0  Jacob Smith                             Flirting with Disaster       4\n",
        "1  Jacob Smith                                  Indecent Proposal       3\n",
        "2  Jacob Smith                                      Runaway Bride       2\n",
        "3  Jacob Smith                              Swiss Family Robinson       1\n",
        "4  Jacob Smith                                        The Mexican       2\n",
        "5  Jacob Smith                                  Maid in Manhattan       4\n",
        "6  Jacob Smith  A Charlie Brown Thanksgiving / The Mayflower V...       3\n",
        "7  Jacob Smith                                             Brazil       1\n",
        "8  Jacob Smith                                       Forrest Gump       3\n",
        "9  Jacob Smith                              It Happened One Night       4\n",
        "\n",
        "[10 rows x 3 columns]"
       ]
      }
     ],
     "prompt_number": 25
    },
    {
     "cell_type": "code",
     "collapsed": false,
     "input": [
      "model = graphlab.recommender.create(data, user=\"user\", item=\"movie\", target=\"rating\")"
     ],
     "language": "python",
     "metadata": {},
     "outputs": [],
     "prompt_number": 26
    },
    {
     "cell_type": "code",
     "collapsed": false,
     "input": [
      "results = model.recommend(data, k=5)\n",
      "results.head()"
     ],
     "language": "python",
     "metadata": {},
     "outputs": [
      {
       "html": [
        "<div style=\"max-height:1000px;max-width:1500px;overflow:auto;\">\n",
        "<table border=\"1\" class=\"dataframe\">\n",
        "  <thead>\n",
        "    <tr style=\"text-align: right;\">\n",
        "      <th></th>\n",
        "      <th>user</th>\n",
        "      <th>item</th>\n",
        "      <th>score</th>\n",
        "      <th>rank</th>\n",
        "    </tr>\n",
        "  </thead>\n",
        "  <tbody>\n",
        "    <tr>\n",
        "      <th>0</th>\n",
        "      <td> Jacob Smith</td>\n",
        "      <td>                    All Quiet on the Western Front</td>\n",
        "      <td> 10.583785</td>\n",
        "      <td> 0</td>\n",
        "    </tr>\n",
        "    <tr>\n",
        "      <th>1</th>\n",
        "      <td> Jacob Smith</td>\n",
        "      <td>                                    Shaolin Soccer</td>\n",
        "      <td>  9.119180</td>\n",
        "      <td> 1</td>\n",
        "    </tr>\n",
        "    <tr>\n",
        "      <th>2</th>\n",
        "      <td> Jacob Smith</td>\n",
        "      <td>                                         Stalag 17</td>\n",
        "      <td>  8.224042</td>\n",
        "      <td> 2</td>\n",
        "    </tr>\n",
        "    <tr>\n",
        "      <th>3</th>\n",
        "      <td> Jacob Smith</td>\n",
        "      <td>                                       Buffalo '66</td>\n",
        "      <td>  7.332020</td>\n",
        "      <td> 3</td>\n",
        "    </tr>\n",
        "    <tr>\n",
        "      <th>4</th>\n",
        "      <td> Jacob Smith</td>\n",
        "      <td>                                                Go</td>\n",
        "      <td>  7.219887</td>\n",
        "      <td> 4</td>\n",
        "    </tr>\n",
        "    <tr>\n",
        "      <th>5</th>\n",
        "      <td> Mason Smith</td>\n",
        "      <td>                                         True Grit</td>\n",
        "      <td>  7.737775</td>\n",
        "      <td> 0</td>\n",
        "    </tr>\n",
        "    <tr>\n",
        "      <th>6</th>\n",
        "      <td> Mason Smith</td>\n",
        "      <td>                    All Quiet on the Western Front</td>\n",
        "      <td>  7.571915</td>\n",
        "      <td> 1</td>\n",
        "    </tr>\n",
        "    <tr>\n",
        "      <th>7</th>\n",
        "      <td> Mason Smith</td>\n",
        "      <td>                                    The Sea Inside</td>\n",
        "      <td>  6.886491</td>\n",
        "      <td> 2</td>\n",
        "    </tr>\n",
        "    <tr>\n",
        "      <th>8</th>\n",
        "      <td> Mason Smith</td>\n",
        "      <td>                                  Army of Darkness</td>\n",
        "      <td>  6.804628</td>\n",
        "      <td> 3</td>\n",
        "    </tr>\n",
        "    <tr>\n",
        "      <th>9</th>\n",
        "      <td> Mason Smith</td>\n",
        "      <td> Seven Brides for Seven Brothers: 50th Annivers...</td>\n",
        "      <td>  6.793122</td>\n",
        "      <td> 4</td>\n",
        "    </tr>\n",
        "  </tbody>\n",
        "</table>\n",
        "<p>10 rows \u00d7 4 columns</p>\n",
        "</div>"
       ],
       "metadata": {},
       "output_type": "pyout",
       "prompt_number": 27,
       "text": [
        "          user                                               item      score  \\\n",
        "0  Jacob Smith                     All Quiet on the Western Front  10.583785   \n",
        "1  Jacob Smith                                     Shaolin Soccer   9.119180   \n",
        "2  Jacob Smith                                          Stalag 17   8.224042   \n",
        "3  Jacob Smith                                        Buffalo '66   7.332020   \n",
        "4  Jacob Smith                                                 Go   7.219887   \n",
        "5  Mason Smith                                          True Grit   7.737775   \n",
        "6  Mason Smith                     All Quiet on the Western Front   7.571915   \n",
        "7  Mason Smith                                     The Sea Inside   6.886491   \n",
        "8  Mason Smith                                   Army of Darkness   6.804628   \n",
        "9  Mason Smith  Seven Brides for Seven Brothers: 50th Annivers...   6.793122   \n",
        "\n",
        "   rank  \n",
        "0     0  \n",
        "1     1  \n",
        "2     2  \n",
        "3     3  \n",
        "4     4  \n",
        "5     0  \n",
        "6     1  \n",
        "7     2  \n",
        "8     3  \n",
        "9     4  \n",
        "\n",
        "[10 rows x 4 columns]"
       ]
      }
     ],
     "prompt_number": 27
    },
    {
     "cell_type": "code",
     "collapsed": false,
     "input": [
      "model.save(\"my_model.gl\")"
     ],
     "language": "python",
     "metadata": {},
     "outputs": [],
     "prompt_number": 28
    },
    {
     "cell_type": "code",
     "collapsed": false,
     "input": [
      "!ls -lh my_model.gl"
     ],
     "language": "python",
     "metadata": {},
     "outputs": [
      {
       "output_type": "stream",
       "stream": "stdout",
       "text": [
        "-rw-rw-r-- 1 azureuser azureuser 8.0M Apr  1 09:24 my_model.gl\r\n"
       ]
      }
     ],
     "prompt_number": 29
    },
    {
     "cell_type": "markdown",
     "metadata": {},
     "source": [
      "## Exercises\n",
      "\n",
      "GraphLab Create is well documented.\n",
      "Try to explore other algorithms on your own.\n"
     ]
    },
    {
     "cell_type": "markdown",
     "metadata": {},
     "source": [
      "## References:\n",
      "\n",
      "   * GraphLab Create: http://graphlab.com/products/create/index.html\n",
      "   * GraphLab (C++) API: http://docs.graphlab.org/using_graphlab.html\n",
      "   "
     ]
    }
   ],
   "metadata": {}
  }
 ]
}